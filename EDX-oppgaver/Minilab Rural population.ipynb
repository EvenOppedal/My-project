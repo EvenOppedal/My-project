{
 "cells": [
  {
   "cell_type": "markdown",
   "id": "a6607f1d",
   "metadata": {},
   "source": [
    "# Life expectancy and urban population"
   ]
  },
  {
   "cell_type": "code",
   "execution_count": 1,
   "id": "b395aa82",
   "metadata": {},
   "outputs": [],
   "source": [
    "import pandas as pd\n",
    "import numpy as np\n",
    "import random\n",
    "import matplotlib.pyplot as plt"
   ]
  },
  {
   "cell_type": "markdown",
   "id": "82d55784",
   "metadata": {},
   "source": [
    "The first part is the same as the example where I explore the data. "
   ]
  },
  {
   "cell_type": "code",
   "execution_count": 2,
   "id": "49601262",
   "metadata": {},
   "outputs": [
    {
     "data": {
      "text/plain": [
       "(5656458, 6)"
      ]
     },
     "execution_count": 2,
     "metadata": {},
     "output_type": "execute_result"
    }
   ],
   "source": [
    "data = pd.read_csv('./Indikatorer/Indicators.csv')\n",
    "data.shape"
   ]
  },
  {
   "cell_type": "code",
   "execution_count": 3,
   "id": "0b36ea48",
   "metadata": {},
   "outputs": [
    {
     "data": {
      "text/html": [
       "<div>\n",
       "<style scoped>\n",
       "    .dataframe tbody tr th:only-of-type {\n",
       "        vertical-align: middle;\n",
       "    }\n",
       "\n",
       "    .dataframe tbody tr th {\n",
       "        vertical-align: top;\n",
       "    }\n",
       "\n",
       "    .dataframe thead th {\n",
       "        text-align: right;\n",
       "    }\n",
       "</style>\n",
       "<table border=\"1\" class=\"dataframe\">\n",
       "  <thead>\n",
       "    <tr style=\"text-align: right;\">\n",
       "      <th></th>\n",
       "      <th>CountryName</th>\n",
       "      <th>CountryCode</th>\n",
       "      <th>IndicatorName</th>\n",
       "      <th>IndicatorCode</th>\n",
       "      <th>Year</th>\n",
       "      <th>Value</th>\n",
       "    </tr>\n",
       "  </thead>\n",
       "  <tbody>\n",
       "    <tr>\n",
       "      <th>5656453</th>\n",
       "      <td>Zimbabwe</td>\n",
       "      <td>ZWE</td>\n",
       "      <td>Time required to register property (days)</td>\n",
       "      <td>IC.PRP.DURS</td>\n",
       "      <td>2015</td>\n",
       "      <td>36.0</td>\n",
       "    </tr>\n",
       "    <tr>\n",
       "      <th>5656454</th>\n",
       "      <td>Zimbabwe</td>\n",
       "      <td>ZWE</td>\n",
       "      <td>Time required to start a business (days)</td>\n",
       "      <td>IC.REG.DURS</td>\n",
       "      <td>2015</td>\n",
       "      <td>90.0</td>\n",
       "    </tr>\n",
       "    <tr>\n",
       "      <th>5656455</th>\n",
       "      <td>Zimbabwe</td>\n",
       "      <td>ZWE</td>\n",
       "      <td>Time to prepare and pay taxes (hours)</td>\n",
       "      <td>IC.TAX.DURS</td>\n",
       "      <td>2015</td>\n",
       "      <td>242.0</td>\n",
       "    </tr>\n",
       "    <tr>\n",
       "      <th>5656456</th>\n",
       "      <td>Zimbabwe</td>\n",
       "      <td>ZWE</td>\n",
       "      <td>Time to resolve insolvency (years)</td>\n",
       "      <td>IC.ISV.DURS</td>\n",
       "      <td>2015</td>\n",
       "      <td>3.3</td>\n",
       "    </tr>\n",
       "    <tr>\n",
       "      <th>5656457</th>\n",
       "      <td>Zimbabwe</td>\n",
       "      <td>ZWE</td>\n",
       "      <td>Total tax rate (% of commercial profits)</td>\n",
       "      <td>IC.TAX.TOTL.CP.ZS</td>\n",
       "      <td>2015</td>\n",
       "      <td>32.8</td>\n",
       "    </tr>\n",
       "  </tbody>\n",
       "</table>\n",
       "</div>"
      ],
      "text/plain": [
       "        CountryName CountryCode                              IndicatorName  \\\n",
       "5656453    Zimbabwe         ZWE  Time required to register property (days)   \n",
       "5656454    Zimbabwe         ZWE   Time required to start a business (days)   \n",
       "5656455    Zimbabwe         ZWE      Time to prepare and pay taxes (hours)   \n",
       "5656456    Zimbabwe         ZWE         Time to resolve insolvency (years)   \n",
       "5656457    Zimbabwe         ZWE   Total tax rate (% of commercial profits)   \n",
       "\n",
       "             IndicatorCode  Year  Value  \n",
       "5656453        IC.PRP.DURS  2015   36.0  \n",
       "5656454        IC.REG.DURS  2015   90.0  \n",
       "5656455        IC.TAX.DURS  2015  242.0  \n",
       "5656456        IC.ISV.DURS  2015    3.3  \n",
       "5656457  IC.TAX.TOTL.CP.ZS  2015   32.8  "
      ]
     },
     "execution_count": 3,
     "metadata": {},
     "output_type": "execute_result"
    }
   ],
   "source": [
    "data.tail()"
   ]
  },
  {
   "cell_type": "markdown",
   "id": "0b1ae0f1",
   "metadata": {},
   "source": [
    "I have to find the right indicators, and I'll make a list of countries"
   ]
  },
  {
   "cell_type": "code",
   "execution_count": 17,
   "id": "832bd199",
   "metadata": {},
   "outputs": [],
   "source": [
    "# Indicators and countries\n",
    "countries = data['CountryName'].unique().tolist()\n",
    "indicators = data['IndicatorName'].unique().tolist()\n"
   ]
  },
  {
   "cell_type": "code",
   "execution_count": null,
   "id": "d86da949",
   "metadata": {},
   "outputs": [],
   "source": []
  },
  {
   "cell_type": "markdown",
   "id": "899b8304",
   "metadata": {},
   "source": [
    "This is a very long list and I prefer to look at the indicators in an excel format"
   ]
  },
  {
   "cell_type": "code",
   "execution_count": 5,
   "id": "80a9bbd2",
   "metadata": {},
   "outputs": [
    {
     "ename": "PermissionError",
     "evalue": "[Errno 13] Permission denied: 'test.xlsx'",
     "output_type": "error",
     "traceback": [
      "\u001b[1;31m---------------------------------------------------------------------------\u001b[0m",
      "\u001b[1;31mPermissionError\u001b[0m                           Traceback (most recent call last)",
      "\u001b[1;32m~\\AppData\\Local\\Temp/ipykernel_11360/586617928.py\u001b[0m in \u001b[0;36m<module>\u001b[1;34m\u001b[0m\n\u001b[0;32m      1\u001b[0m \u001b[0mdf\u001b[0m \u001b[1;33m=\u001b[0m \u001b[0mpd\u001b[0m\u001b[1;33m.\u001b[0m\u001b[0mDataFrame\u001b[0m\u001b[1;33m(\u001b[0m\u001b[0mindicators\u001b[0m\u001b[1;33m)\u001b[0m\u001b[1;33m\u001b[0m\u001b[1;33m\u001b[0m\u001b[0m\n\u001b[1;32m----> 2\u001b[1;33m \u001b[0mwriter\u001b[0m \u001b[1;33m=\u001b[0m \u001b[0mpd\u001b[0m\u001b[1;33m.\u001b[0m\u001b[0mExcelWriter\u001b[0m\u001b[1;33m(\u001b[0m\u001b[1;34m'test.xlsx'\u001b[0m\u001b[1;33m,\u001b[0m \u001b[0mengine\u001b[0m\u001b[1;33m=\u001b[0m\u001b[1;34m'xlsxwriter'\u001b[0m\u001b[1;33m)\u001b[0m\u001b[1;33m\u001b[0m\u001b[1;33m\u001b[0m\u001b[0m\n\u001b[0m\u001b[0;32m      3\u001b[0m \u001b[0mdf\u001b[0m\u001b[1;33m.\u001b[0m\u001b[0mto_excel\u001b[0m\u001b[1;33m(\u001b[0m\u001b[0mwriter\u001b[0m\u001b[1;33m,\u001b[0m \u001b[0msheet_name\u001b[0m\u001b[1;33m=\u001b[0m\u001b[1;34m'welcome'\u001b[0m\u001b[1;33m,\u001b[0m \u001b[0mindex\u001b[0m\u001b[1;33m=\u001b[0m\u001b[1;32mFalse\u001b[0m\u001b[1;33m)\u001b[0m\u001b[1;33m\u001b[0m\u001b[1;33m\u001b[0m\u001b[0m\n\u001b[0;32m      4\u001b[0m \u001b[0mwriter\u001b[0m\u001b[1;33m.\u001b[0m\u001b[0msave\u001b[0m\u001b[1;33m(\u001b[0m\u001b[1;33m)\u001b[0m\u001b[1;33m\u001b[0m\u001b[1;33m\u001b[0m\u001b[0m\n",
      "\u001b[1;32m~\\Anaconda3\\lib\\site-packages\\pandas\\io\\excel\\_xlsxwriter.py\u001b[0m in \u001b[0;36m__init__\u001b[1;34m(self, path, engine, date_format, datetime_format, mode, storage_options, if_sheet_exists, engine_kwargs, **kwargs)\u001b[0m\n\u001b[0;32m    189\u001b[0m             \u001b[1;32mraise\u001b[0m \u001b[0mValueError\u001b[0m\u001b[1;33m(\u001b[0m\u001b[1;34m\"Append mode is not supported with xlsxwriter!\"\u001b[0m\u001b[1;33m)\u001b[0m\u001b[1;33m\u001b[0m\u001b[1;33m\u001b[0m\u001b[0m\n\u001b[0;32m    190\u001b[0m \u001b[1;33m\u001b[0m\u001b[0m\n\u001b[1;32m--> 191\u001b[1;33m         super().__init__(\n\u001b[0m\u001b[0;32m    192\u001b[0m             \u001b[0mpath\u001b[0m\u001b[1;33m,\u001b[0m\u001b[1;33m\u001b[0m\u001b[1;33m\u001b[0m\u001b[0m\n\u001b[0;32m    193\u001b[0m             \u001b[0mengine\u001b[0m\u001b[1;33m=\u001b[0m\u001b[0mengine\u001b[0m\u001b[1;33m,\u001b[0m\u001b[1;33m\u001b[0m\u001b[1;33m\u001b[0m\u001b[0m\n",
      "\u001b[1;32m~\\Anaconda3\\lib\\site-packages\\pandas\\io\\excel\\_base.py\u001b[0m in \u001b[0;36m__init__\u001b[1;34m(self, path, engine, date_format, datetime_format, mode, storage_options, if_sheet_exists, engine_kwargs, **kwargs)\u001b[0m\n\u001b[0;32m    923\u001b[0m         \u001b[0mself\u001b[0m\u001b[1;33m.\u001b[0m\u001b[0mhandles\u001b[0m \u001b[1;33m=\u001b[0m \u001b[0mIOHandles\u001b[0m\u001b[1;33m(\u001b[0m\u001b[0mcast\u001b[0m\u001b[1;33m(\u001b[0m\u001b[0mBuffer\u001b[0m\u001b[1;33m,\u001b[0m \u001b[0mpath\u001b[0m\u001b[1;33m)\u001b[0m\u001b[1;33m,\u001b[0m \u001b[0mcompression\u001b[0m\u001b[1;33m=\u001b[0m\u001b[1;33m{\u001b[0m\u001b[1;34m\"copression\"\u001b[0m\u001b[1;33m:\u001b[0m \u001b[1;32mNone\u001b[0m\u001b[1;33m}\u001b[0m\u001b[1;33m)\u001b[0m\u001b[1;33m\u001b[0m\u001b[1;33m\u001b[0m\u001b[0m\n\u001b[0;32m    924\u001b[0m         \u001b[1;32mif\u001b[0m \u001b[1;32mnot\u001b[0m \u001b[0misinstance\u001b[0m\u001b[1;33m(\u001b[0m\u001b[0mpath\u001b[0m\u001b[1;33m,\u001b[0m \u001b[0mExcelWriter\u001b[0m\u001b[1;33m)\u001b[0m\u001b[1;33m:\u001b[0m\u001b[1;33m\u001b[0m\u001b[1;33m\u001b[0m\u001b[0m\n\u001b[1;32m--> 925\u001b[1;33m             self.handles = get_handle(\n\u001b[0m\u001b[0;32m    926\u001b[0m                 \u001b[0mpath\u001b[0m\u001b[1;33m,\u001b[0m \u001b[0mmode\u001b[0m\u001b[1;33m,\u001b[0m \u001b[0mstorage_options\u001b[0m\u001b[1;33m=\u001b[0m\u001b[0mstorage_options\u001b[0m\u001b[1;33m,\u001b[0m \u001b[0mis_text\u001b[0m\u001b[1;33m=\u001b[0m\u001b[1;32mFalse\u001b[0m\u001b[1;33m\u001b[0m\u001b[1;33m\u001b[0m\u001b[0m\n\u001b[0;32m    927\u001b[0m             )\n",
      "\u001b[1;32m~\\Anaconda3\\lib\\site-packages\\pandas\\io\\common.py\u001b[0m in \u001b[0;36mget_handle\u001b[1;34m(path_or_buf, mode, encoding, compression, memory_map, is_text, errors, storage_options)\u001b[0m\n\u001b[0;32m    709\u001b[0m         \u001b[1;32melse\u001b[0m\u001b[1;33m:\u001b[0m\u001b[1;33m\u001b[0m\u001b[1;33m\u001b[0m\u001b[0m\n\u001b[0;32m    710\u001b[0m             \u001b[1;31m# Binary mode\u001b[0m\u001b[1;33m\u001b[0m\u001b[1;33m\u001b[0m\u001b[0m\n\u001b[1;32m--> 711\u001b[1;33m             \u001b[0mhandle\u001b[0m \u001b[1;33m=\u001b[0m \u001b[0mopen\u001b[0m\u001b[1;33m(\u001b[0m\u001b[0mhandle\u001b[0m\u001b[1;33m,\u001b[0m \u001b[0mioargs\u001b[0m\u001b[1;33m.\u001b[0m\u001b[0mmode\u001b[0m\u001b[1;33m)\u001b[0m\u001b[1;33m\u001b[0m\u001b[1;33m\u001b[0m\u001b[0m\n\u001b[0m\u001b[0;32m    712\u001b[0m         \u001b[0mhandles\u001b[0m\u001b[1;33m.\u001b[0m\u001b[0mappend\u001b[0m\u001b[1;33m(\u001b[0m\u001b[0mhandle\u001b[0m\u001b[1;33m)\u001b[0m\u001b[1;33m\u001b[0m\u001b[1;33m\u001b[0m\u001b[0m\n\u001b[0;32m    713\u001b[0m \u001b[1;33m\u001b[0m\u001b[0m\n",
      "\u001b[1;31mPermissionError\u001b[0m: [Errno 13] Permission denied: 'test.xlsx'"
     ]
    }
   ],
   "source": [
    "df = pd.DataFrame(indicators)\n",
    "writer = pd.ExcelWriter('indicators.xlsx', engine='xlsxwriter')\n",
    "df.to_excel(writer, sheet_name='welcome', index=False)\n",
    "writer.save()"
   ]
  },
  {
   "cell_type": "markdown",
   "id": "a68e55da",
   "metadata": {},
   "source": [
    "Life expectancy at birth and Rural population seems to fit the bill. Using the setup from the course, I'll be looking into the figures for USA"
   ]
  },
  {
   "cell_type": "code",
   "execution_count": 18,
   "id": "d4bbcbb3",
   "metadata": {},
   "outputs": [],
   "source": [
    "Life=data['IndicatorName'].str.contains('Life expectancy at birth, total')\n",
    "Rural=data['IndicatorCode'].str.contains('SP.RUR.TOTL.ZS')\n",
    "country=data['CountryCode'].str.contains('USA')"
   ]
  },
  {
   "cell_type": "code",
   "execution_count": 19,
   "id": "aefd6859",
   "metadata": {},
   "outputs": [
    {
     "data": {
      "text/html": [
       "<div>\n",
       "<style scoped>\n",
       "    .dataframe tbody tr th:only-of-type {\n",
       "        vertical-align: middle;\n",
       "    }\n",
       "\n",
       "    .dataframe tbody tr th {\n",
       "        vertical-align: top;\n",
       "    }\n",
       "\n",
       "    .dataframe thead th {\n",
       "        text-align: right;\n",
       "    }\n",
       "</style>\n",
       "<table border=\"1\" class=\"dataframe\">\n",
       "  <thead>\n",
       "    <tr style=\"text-align: right;\">\n",
       "      <th></th>\n",
       "      <th>CountryName</th>\n",
       "      <th>CountryCode</th>\n",
       "      <th>IndicatorName</th>\n",
       "      <th>IndicatorCode</th>\n",
       "      <th>Year</th>\n",
       "      <th>Value</th>\n",
       "    </tr>\n",
       "  </thead>\n",
       "  <tbody>\n",
       "    <tr>\n",
       "      <th>22377</th>\n",
       "      <td>United States</td>\n",
       "      <td>USA</td>\n",
       "      <td>Rural population (% of total population)</td>\n",
       "      <td>SP.RUR.TOTL.ZS</td>\n",
       "      <td>1960</td>\n",
       "      <td>30.004</td>\n",
       "    </tr>\n",
       "    <tr>\n",
       "      <th>48858</th>\n",
       "      <td>United States</td>\n",
       "      <td>USA</td>\n",
       "      <td>Rural population (% of total population)</td>\n",
       "      <td>SP.RUR.TOTL.ZS</td>\n",
       "      <td>1961</td>\n",
       "      <td>29.623</td>\n",
       "    </tr>\n",
       "    <tr>\n",
       "      <th>77248</th>\n",
       "      <td>United States</td>\n",
       "      <td>USA</td>\n",
       "      <td>Rural population (% of total population)</td>\n",
       "      <td>SP.RUR.TOTL.ZS</td>\n",
       "      <td>1962</td>\n",
       "      <td>29.243</td>\n",
       "    </tr>\n",
       "    <tr>\n",
       "      <th>105867</th>\n",
       "      <td>United States</td>\n",
       "      <td>USA</td>\n",
       "      <td>Rural population (% of total population)</td>\n",
       "      <td>SP.RUR.TOTL.ZS</td>\n",
       "      <td>1963</td>\n",
       "      <td>28.866</td>\n",
       "    </tr>\n",
       "    <tr>\n",
       "      <th>134905</th>\n",
       "      <td>United States</td>\n",
       "      <td>USA</td>\n",
       "      <td>Rural population (% of total population)</td>\n",
       "      <td>SP.RUR.TOTL.ZS</td>\n",
       "      <td>1964</td>\n",
       "      <td>28.492</td>\n",
       "    </tr>\n",
       "  </tbody>\n",
       "</table>\n",
       "</div>"
      ],
      "text/plain": [
       "          CountryName CountryCode                             IndicatorName  \\\n",
       "22377   United States         USA  Rural population (% of total population)   \n",
       "48858   United States         USA  Rural population (% of total population)   \n",
       "77248   United States         USA  Rural population (% of total population)   \n",
       "105867  United States         USA  Rural population (% of total population)   \n",
       "134905  United States         USA  Rural population (% of total population)   \n",
       "\n",
       "         IndicatorCode  Year   Value  \n",
       "22377   SP.RUR.TOTL.ZS  1960  30.004  \n",
       "48858   SP.RUR.TOTL.ZS  1961  29.623  \n",
       "77248   SP.RUR.TOTL.ZS  1962  29.243  \n",
       "105867  SP.RUR.TOTL.ZS  1963  28.866  \n",
       "134905  SP.RUR.TOTL.ZS  1964  28.492  "
      ]
     },
     "execution_count": 19,
     "metadata": {},
     "output_type": "execute_result"
    }
   ],
   "source": [
    "stage = data[Rural & country]\n",
    "stage2= data[Life & country]\n",
    "stage.head()"
   ]
  },
  {
   "cell_type": "code",
   "execution_count": 20,
   "id": "4a93dc04",
   "metadata": {},
   "outputs": [
    {
     "data": {
      "text/plain": [
       "(55, 6)"
      ]
     },
     "execution_count": 20,
     "metadata": {},
     "output_type": "execute_result"
    }
   ],
   "source": [
    "stage.shape"
   ]
  },
  {
   "cell_type": "code",
   "execution_count": 21,
   "id": "176ed9c0",
   "metadata": {},
   "outputs": [
    {
     "data": {
      "text/plain": [
       "(54, 6)"
      ]
     },
     "execution_count": 21,
     "metadata": {},
     "output_type": "execute_result"
    }
   ],
   "source": [
    "stage2.shape"
   ]
  },
  {
   "cell_type": "code",
   "execution_count": null,
   "id": "917f777c",
   "metadata": {},
   "outputs": [],
   "source": [
    "\n",
    "# get the years\n",
    "years = stage['Year'].values\n",
    "# get the values \n",
    "countryside = stage['Value'].values\n",
    "\n",
    "fig, axis = plt.subplots()\n",
    "# create histogram of % of rural population\n",
    "axis.set_title('Rural population, % of total population, USA',fontsize=12)\n",
    "axis.set_xlabel('Year',fontsize=10)\n",
    "axis.set_ylabel(stage['IndicatorName'].iloc[0],fontsize=10)\n",
    "\n",
    "plt.bar(years,countryside)\n",
    "plt.show()"
   ]
  },
  {
   "cell_type": "code",
   "execution_count": null,
   "id": "02defdbf",
   "metadata": {
    "scrolled": true
   },
   "outputs": [],
   "source": [
    "# create histogram of expected lifespan \n",
    "years = stage2['Year'].values\n",
    "longlife = stage2['Value'].values\n",
    "\n",
    "fig, axis = plt.subplots()\n",
    "axis.set_title('Life expectancy at birth, USA',fontsize=12)\n",
    "axis.set_xlabel('Year',fontsize=10)\n",
    "axis.set_ylabel(stage2['IndicatorName'].iloc[0],fontsize=10)\n",
    "plt.bar(years,longlife)\n",
    "plt.show()"
   ]
  },
  {
   "cell_type": "markdown",
   "id": "73fe407b",
   "metadata": {},
   "source": [
    "So looking at the histograms for USA we immediately see that the development in column-sizes are oppoite, and we should expect a negative correlation. \n",
    "\n",
    "I'll set up a scatterplot of life expectancy and rate of rural living"
   ]
  },
  {
   "cell_type": "code",
   "execution_count": 6,
   "id": "944e4ed8",
   "metadata": {},
   "outputs": [
    {
     "ename": "NameError",
     "evalue": "name 'stage' is not defined",
     "output_type": "error",
     "traceback": [
      "\u001b[1;31m---------------------------------------------------------------------------\u001b[0m",
      "\u001b[1;31mNameError\u001b[0m                                 Traceback (most recent call last)",
      "\u001b[1;32m~\\AppData\\Local\\Temp/ipykernel_11360/3107071209.py\u001b[0m in \u001b[0;36m<module>\u001b[1;34m\u001b[0m\n\u001b[0;32m      1\u001b[0m \u001b[1;31m# first set similar timeframe.\u001b[0m\u001b[1;33m\u001b[0m\u001b[1;33m\u001b[0m\u001b[0m\n\u001b[1;32m----> 2\u001b[1;33m \u001b[0mprint\u001b[0m\u001b[1;33m(\u001b[0m\u001b[1;34m\"rural Min Year = \"\u001b[0m\u001b[1;33m,\u001b[0m \u001b[0mstage\u001b[0m\u001b[1;33m[\u001b[0m\u001b[1;34m'Year'\u001b[0m\u001b[1;33m]\u001b[0m\u001b[1;33m.\u001b[0m\u001b[0mmin\u001b[0m\u001b[1;33m(\u001b[0m\u001b[1;33m)\u001b[0m\u001b[1;33m,\u001b[0m \u001b[1;34m\"max: \"\u001b[0m\u001b[1;33m,\u001b[0m \u001b[0mstage\u001b[0m\u001b[1;33m[\u001b[0m\u001b[1;34m'Year'\u001b[0m\u001b[1;33m]\u001b[0m\u001b[1;33m.\u001b[0m\u001b[0mmax\u001b[0m\u001b[1;33m(\u001b[0m\u001b[1;33m)\u001b[0m\u001b[1;33m)\u001b[0m\u001b[1;33m\u001b[0m\u001b[1;33m\u001b[0m\u001b[0m\n\u001b[0m\u001b[0;32m      3\u001b[0m \u001b[0mprint\u001b[0m\u001b[1;33m(\u001b[0m\u001b[1;34m\"life Min Year = \"\u001b[0m\u001b[1;33m,\u001b[0m \u001b[0mstage2\u001b[0m\u001b[1;33m[\u001b[0m\u001b[1;34m'Year'\u001b[0m\u001b[1;33m]\u001b[0m\u001b[1;33m.\u001b[0m\u001b[0mmin\u001b[0m\u001b[1;33m(\u001b[0m\u001b[1;33m)\u001b[0m\u001b[1;33m,\u001b[0m \u001b[1;34m\"max: \"\u001b[0m\u001b[1;33m,\u001b[0m \u001b[0mstage2\u001b[0m\u001b[1;33m[\u001b[0m\u001b[1;34m'Year'\u001b[0m\u001b[1;33m]\u001b[0m\u001b[1;33m.\u001b[0m\u001b[0mmax\u001b[0m\u001b[1;33m(\u001b[0m\u001b[1;33m)\u001b[0m\u001b[1;33m)\u001b[0m\u001b[1;33m\u001b[0m\u001b[1;33m\u001b[0m\u001b[0m\n",
      "\u001b[1;31mNameError\u001b[0m: name 'stage' is not defined"
     ]
    }
   ],
   "source": [
    "# first set similar timeframe. \n",
    "print(\"rural Min Year = \", stage['Year'].min(), \"max: \", stage['Year'].max())\n",
    "print(\"life Min Year = \", stage2['Year'].min(), \"max: \", stage2['Year'].max())\n"
   ]
  },
  {
   "cell_type": "code",
   "execution_count": 13,
   "id": "eebc970d",
   "metadata": {},
   "outputs": [
    {
     "name": "stdout",
     "output_type": "stream",
     "text": [
      "54\n",
      "54\n"
     ]
    }
   ],
   "source": [
    "# Which means that I need to stop at 2013:\n",
    "stage_trunc = stage[stage['Year'] < 2014]\n",
    "print(len(stage_trunc))\n",
    "print(len(stage2))"
   ]
  },
  {
   "cell_type": "markdown",
   "id": "2f6dea95",
   "metadata": {},
   "source": [
    "Now I'm ready to draw a scatterplot:"
   ]
  },
  {
   "cell_type": "code",
   "execution_count": 14,
   "id": "812f3268",
   "metadata": {},
   "outputs": [
    {
     "data": {
      "image/png": "[encoded data removed]",
      "text/plain": [
       "<Figure size 432x288 with 1 Axes>"
      ]
     },
     "metadata": {
      "needs_background": "light"
     },
     "output_type": "display_data"
    }
   ],
   "source": [
    "# %matplotlib inline\n",
    "# import matplotlib.pyplot as plt\n",
    "\n",
    "fig, axis = plt.subplots()\n",
    "# Grid lines, Xticks, Xlabel, Ylabel\n",
    "\n",
    "axis.yaxis.grid(True)\n",
    "axis.set_title('Life expectancy vs share of rural population',fontsize=15)\n",
    "axis.set_xlabel(stage_trunc['IndicatorName'].iloc[0],fontsize=10)\n",
    "axis.set_ylabel(stage2['IndicatorName'].iloc[0],fontsize=10)\n",
    "\n",
    "X = stage_trunc['Value']\n",
    "Y = stage2['Value']\n",
    "\n",
    "# Adjusting Y-axis\n",
    "plt.ylim(0,100)\n",
    "\n",
    "# Adjusting x-axis\n",
    "plt.xlim(0,100)\n",
    "\n",
    "axis.scatter(X, Y)\n",
    "plt.show()"
   ]
  },
  {
   "cell_type": "markdown",
   "id": "5ea0956e",
   "metadata": {},
   "source": [
    "I think it's easier just to use the automatically generated axises"
   ]
  },
  {
   "cell_type": "code",
   "execution_count": 15,
   "id": "90bd36e2",
   "metadata": {},
   "outputs": [
    {
     "data": {
      "image/png": "[encoded data removed]",
      "text/plain": [
       "<Figure size 432x288 with 1 Axes>"
      ]
     },
     "metadata": {
      "needs_background": "light"
     },
     "output_type": "display_data"
    }
   ],
   "source": [
    "# %matplotlib inline\n",
    "# import matplotlib.pyplot as plt\n",
    "\n",
    "fig, axis = plt.subplots()\n",
    "# Grid lines, Xticks, Xlabel, Ylabel\n",
    "\n",
    "axis.yaxis.grid(True)\n",
    "axis.set_title('Life expectancy vs share of rural population',fontsize=15)\n",
    "axis.set_xlabel(stage_trunc['IndicatorName'].iloc[0],fontsize=10)\n",
    "axis.set_ylabel(stage2['IndicatorName'].iloc[0],fontsize=10)\n",
    "\n",
    "XUSA = stage_trunc['Value']\n",
    "YUSA = stage2['Value']\n",
    "\n",
    "# Adjusting Y-axis\n",
    "# plt.ylim(50,100)\n",
    "\n",
    "# Adjusting x-axis\n",
    "# plt.xlim(10,60)\n",
    "\n",
    "axis.scatter(XUSA, YUSA)\n",
    "plt.show()"
   ]
  },
  {
   "cell_type": "code",
   "execution_count": 16,
   "id": "b1c124cc",
   "metadata": {},
   "outputs": [
    {
     "data": {
      "text/plain": [
       "array([[ 1.        , -0.94501354],\n",
       "       [-0.94501354,  1.        ]])"
      ]
     },
     "execution_count": 16,
     "metadata": {},
     "output_type": "execute_result"
    }
   ],
   "source": [
    "# correlation\n",
    "np.corrcoef(stage_trunc['Value'],stage2['Value'])"
   ]
  },
  {
   "cell_type": "markdown",
   "id": "198630dd",
   "metadata": {},
   "source": [
    "The data from USA shows a very strong negative correlation between life expectancy and share of rural population, and does not support the thesis. \n",
    "Of course, lack of correlation is not evidence. Let's try with another country. I used a random country finder from the dataset, and Mexico turned up. "
   ]
  },
  {
   "cell_type": "code",
   "execution_count": 17,
   "id": "c5ed347d",
   "metadata": {},
   "outputs": [
    {
     "data": {
      "text/plain": [
       "'Slovak Republic'"
      ]
     },
     "execution_count": 17,
     "metadata": {},
     "output_type": "execute_result"
    }
   ],
   "source": [
    "countryFilter = random.sample(data['CountryName'].unique().tolist(),1)\n",
    "countryFilter1 = countryFilter[0]\n",
    "countryFilter1"
   ]
  },
  {
   "cell_type": "markdown",
   "id": "4bddc034",
   "metadata": {},
   "source": [
    "It's not really practical to work with randomly generated datasets based on random countries when you are making a presentation, so it's easier to fix the country. That way you can reproduce the graphs. \n",
    "\n",
    "In order to replace the scatterplots with the randomly generated countries, you have to replace the countryMexico variable with the variable countryRandom given by the code below:"
   ]
  },
  {
   "cell_type": "code",
   "execution_count": 18,
   "id": "51dc770b",
   "metadata": {},
   "outputs": [],
   "source": [
    "countryMexico=data['CountryName']=='Mexico'\n",
    "\n",
    "# countryRandom=data['CountryName']==countryFilter1\n",
    "# countryRandom"
   ]
  },
  {
   "cell_type": "code",
   "execution_count": 19,
   "id": "c4e7cee9",
   "metadata": {
    "scrolled": true
   },
   "outputs": [],
   "source": [
    "# Scatterplot\n",
    "country2stage = data[Rural & countryMexico]\n",
    "country2stage2= data[Life & countryMexico]\n",
    "\n",
    "# To make the graph based on the random country, replace with these lines of codes and run the following cells\n",
    "\n",
    "# country2stage = data[Rural & countryRandom]\n",
    "# country2stage2= data[Life & countryRandom]"
   ]
  },
  {
   "cell_type": "code",
   "execution_count": 20,
   "id": "079a8613",
   "metadata": {},
   "outputs": [
    {
     "name": "stdout",
     "output_type": "stream",
     "text": [
      "rural Min Year =  1960 max:  2014\n",
      "life Min Year =  1960 max:  2013\n"
     ]
    }
   ],
   "source": [
    "# first set similar timeframe. \n",
    "print(\"rural Min Year = \", country2stage['Year'].min(), \"max: \", country2stage['Year'].max())\n",
    "print(\"life Min Year = \", country2stage2['Year'].min(), \"max: \", country2stage2['Year'].max())\n"
   ]
  },
  {
   "cell_type": "code",
   "execution_count": 21,
   "id": "7253bb6b",
   "metadata": {},
   "outputs": [
    {
     "name": "stdout",
     "output_type": "stream",
     "text": [
      "54\n",
      "54\n"
     ]
    }
   ],
   "source": [
    "# Which means that I need to stop at 2013:\n",
    "country2stage = country2stage[country2stage['Year'] < 2014]\n",
    "print(len(country2stage))\n",
    "print(len(country2stage2))"
   ]
  },
  {
   "cell_type": "code",
   "execution_count": 22,
   "id": "fcfbf49a",
   "metadata": {},
   "outputs": [
    {
     "data": {
      "image/png": "[encoded data removed]",
      "text/plain": [
       "<Figure size 432x288 with 1 Axes>"
      ]
     },
     "metadata": {
      "needs_background": "light"
     },
     "output_type": "display_data"
    }
   ],
   "source": [
    "# Here's the scatterplot for Mexico:\n",
    "\n",
    "fig, axis = plt.subplots()\n",
    "# Grid lines, Xticks, Xlabel, Ylabel\n",
    "\n",
    "axis.yaxis.grid(True)\n",
    "axis.set_title('Life expectancy vs share of rural population for '+countryFilter1,fontsize=10)\n",
    "axis.set_xlabel(stage_trunc['IndicatorName'].iloc[0],fontsize=10)\n",
    "axis.set_ylabel(stage2['IndicatorName'].iloc[0],fontsize=10)\n",
    "\n",
    "X = country2stage['Value']\n",
    "Y = country2stage2['Value']\n",
    "\n",
    "# Adjusting Y-axis\n",
    "# plt.ylim(0,10+max(Y))\n",
    "\n",
    "# Adjusting x-axis\n",
    "# plt.xlim(20,80)\n",
    "\n",
    "axis.scatter(X, Y, color=\"orange\")\n",
    "plt.show()"
   ]
  },
  {
   "cell_type": "code",
   "execution_count": 23,
   "id": "c67c97e8",
   "metadata": {},
   "outputs": [
    {
     "data": {
      "text/plain": [
       "array([[ 1.        , -0.99511034],\n",
       "       [-0.99511034,  1.        ]])"
      ]
     },
     "execution_count": 23,
     "metadata": {},
     "output_type": "execute_result"
    }
   ],
   "source": [
    "# and the Correlation for Mexico:\n",
    "# correlation\n",
    "np.corrcoef(country2stage['Value'],country2stage2['Value'])"
   ]
  },
  {
   "cell_type": "markdown",
   "id": "710a6316",
   "metadata": {},
   "source": [
    "For Mexico the the data shows almost a linear negative relationship between the two indicators. I fact the correlation is almost -1, which would be linear. \n",
    "\n",
    "Now to plot the two figures together: "
   ]
  },
  {
   "cell_type": "code",
   "execution_count": 24,
   "id": "6daa615c",
   "metadata": {},
   "outputs": [
    {
     "data": {
      "image/png": "[encoded data removed]",
      "text/plain": [
       "<Figure size 432x288 with 1 Axes>"
      ]
     },
     "metadata": {
      "needs_background": "light"
     },
     "output_type": "display_data"
    }
   ],
   "source": [
    "fig, axis = plt.subplots()\n",
    "\n",
    "plt.scatter(XUSA,YUSA, color='blue', label='USA')\n",
    "plt.scatter(X, Y, color=\"orange\" ,label='Mexico')\n",
    "plt.legend(loc='upper right')\n",
    "\n",
    "axis.yaxis.grid(True)\n",
    "axis.set_title('Life expectancy vs share of rural population for USA and Mexico',fontsize=10)\n",
    "axis.set_xlabel(stage_trunc['IndicatorName'].iloc[0],fontsize=10)\n",
    "axis.set_ylabel(stage2['IndicatorName'].iloc[0],fontsize=10)\n",
    "plt.show()"
   ]
  },
  {
   "cell_type": "markdown",
   "id": "148d1465",
   "metadata": {},
   "source": [
    "Now I also want to test my question across countries in a given year\n",
    "\n",
    "First I'll check for missing data, and choose only the countries that have data for both indicators in 2011"
   ]
  },
  {
   "cell_type": "code",
   "execution_count": 25,
   "id": "6e15bc36",
   "metadata": {},
   "outputs": [
    {
     "data": {
      "text/html": [
       "<div>\n",
       "<style scoped>\n",
       "    .dataframe tbody tr th:only-of-type {\n",
       "        vertical-align: middle;\n",
       "    }\n",
       "\n",
       "    .dataframe tbody tr th {\n",
       "        vertical-align: top;\n",
       "    }\n",
       "\n",
       "    .dataframe thead th {\n",
       "        text-align: right;\n",
       "    }\n",
       "</style>\n",
       "<table border=\"1\" class=\"dataframe\">\n",
       "  <thead>\n",
       "    <tr style=\"text-align: right;\">\n",
       "      <th></th>\n",
       "      <th>CountryName</th>\n",
       "      <th>CountryCode</th>\n",
       "      <th>IndicatorName</th>\n",
       "      <th>IndicatorCode</th>\n",
       "      <th>Year</th>\n",
       "      <th>Value</th>\n",
       "    </tr>\n",
       "  </thead>\n",
       "  <tbody>\n",
       "    <tr>\n",
       "      <th>5026679</th>\n",
       "      <td>Arab World</td>\n",
       "      <td>ARB</td>\n",
       "      <td>Rural population (% of total population)</td>\n",
       "      <td>SP.RUR.TOTL.ZS</td>\n",
       "      <td>2011</td>\n",
       "      <td>43.434923</td>\n",
       "    </tr>\n",
       "    <tr>\n",
       "      <th>5027171</th>\n",
       "      <td>Caribbean small states</td>\n",
       "      <td>CSS</td>\n",
       "      <td>Rural population (% of total population)</td>\n",
       "      <td>SP.RUR.TOTL.ZS</td>\n",
       "      <td>2011</td>\n",
       "      <td>58.122724</td>\n",
       "    </tr>\n",
       "    <tr>\n",
       "      <th>5027719</th>\n",
       "      <td>Central Europe and the Baltics</td>\n",
       "      <td>CEB</td>\n",
       "      <td>Rural population (% of total population)</td>\n",
       "      <td>SP.RUR.TOTL.ZS</td>\n",
       "      <td>2011</td>\n",
       "      <td>37.900483</td>\n",
       "    </tr>\n",
       "    <tr>\n",
       "      <th>5028317</th>\n",
       "      <td>East Asia &amp; Pacific (all income levels)</td>\n",
       "      <td>EAS</td>\n",
       "      <td>Rural population (% of total population)</td>\n",
       "      <td>SP.RUR.TOTL.ZS</td>\n",
       "      <td>2011</td>\n",
       "      <td>47.178432</td>\n",
       "    </tr>\n",
       "    <tr>\n",
       "      <th>5029090</th>\n",
       "      <td>East Asia &amp; Pacific (developing only)</td>\n",
       "      <td>EAP</td>\n",
       "      <td>Rural population (% of total population)</td>\n",
       "      <td>SP.RUR.TOTL.ZS</td>\n",
       "      <td>2011</td>\n",
       "      <td>51.195423</td>\n",
       "    </tr>\n",
       "    <tr>\n",
       "      <th>...</th>\n",
       "      <td>...</td>\n",
       "      <td>...</td>\n",
       "      <td>...</td>\n",
       "      <td>...</td>\n",
       "      <td>...</td>\n",
       "      <td>...</td>\n",
       "    </tr>\n",
       "    <tr>\n",
       "      <th>5199258</th>\n",
       "      <td>Virgin Islands (U.S.)</td>\n",
       "      <td>VIR</td>\n",
       "      <td>Rural population (% of total population)</td>\n",
       "      <td>SP.RUR.TOTL.ZS</td>\n",
       "      <td>2011</td>\n",
       "      <td>5.240000</td>\n",
       "    </tr>\n",
       "    <tr>\n",
       "      <th>5199775</th>\n",
       "      <td>West Bank and Gaza</td>\n",
       "      <td>WBG</td>\n",
       "      <td>Rural population (% of total population)</td>\n",
       "      <td>SP.RUR.TOTL.ZS</td>\n",
       "      <td>2011</td>\n",
       "      <td>25.644000</td>\n",
       "    </tr>\n",
       "    <tr>\n",
       "      <th>5200511</th>\n",
       "      <td>Yemen, Rep.</td>\n",
       "      <td>YEM</td>\n",
       "      <td>Rural population (% of total population)</td>\n",
       "      <td>SP.RUR.TOTL.ZS</td>\n",
       "      <td>2011</td>\n",
       "      <td>67.698000</td>\n",
       "    </tr>\n",
       "    <tr>\n",
       "      <th>5201353</th>\n",
       "      <td>Zambia</td>\n",
       "      <td>ZMB</td>\n",
       "      <td>Rural population (% of total population)</td>\n",
       "      <td>SP.RUR.TOTL.ZS</td>\n",
       "      <td>2011</td>\n",
       "      <td>60.847000</td>\n",
       "    </tr>\n",
       "    <tr>\n",
       "      <th>5202181</th>\n",
       "      <td>Zimbabwe</td>\n",
       "      <td>ZWE</td>\n",
       "      <td>Rural population (% of total population)</td>\n",
       "      <td>SP.RUR.TOTL.ZS</td>\n",
       "      <td>2011</td>\n",
       "      <td>66.985000</td>\n",
       "    </tr>\n",
       "  </tbody>\n",
       "</table>\n",
       "<p>245 rows × 6 columns</p>\n",
       "</div>"
      ],
      "text/plain": [
       "                                     CountryName CountryCode  \\\n",
       "5026679                               Arab World         ARB   \n",
       "5027171                   Caribbean small states         CSS   \n",
       "5027719           Central Europe and the Baltics         CEB   \n",
       "5028317  East Asia & Pacific (all income levels)         EAS   \n",
       "5029090    East Asia & Pacific (developing only)         EAP   \n",
       "...                                          ...         ...   \n",
       "5199258                    Virgin Islands (U.S.)         VIR   \n",
       "5199775                       West Bank and Gaza         WBG   \n",
       "5200511                              Yemen, Rep.         YEM   \n",
       "5201353                                   Zambia         ZMB   \n",
       "5202181                                 Zimbabwe         ZWE   \n",
       "\n",
       "                                    IndicatorName   IndicatorCode  Year  \\\n",
       "5026679  Rural population (% of total population)  SP.RUR.TOTL.ZS  2011   \n",
       "5027171  Rural population (% of total population)  SP.RUR.TOTL.ZS  2011   \n",
       "5027719  Rural population (% of total population)  SP.RUR.TOTL.ZS  2011   \n",
       "5028317  Rural population (% of total population)  SP.RUR.TOTL.ZS  2011   \n",
       "5029090  Rural population (% of total population)  SP.RUR.TOTL.ZS  2011   \n",
       "...                                           ...             ...   ...   \n",
       "5199258  Rural population (% of total population)  SP.RUR.TOTL.ZS  2011   \n",
       "5199775  Rural population (% of total population)  SP.RUR.TOTL.ZS  2011   \n",
       "5200511  Rural population (% of total population)  SP.RUR.TOTL.ZS  2011   \n",
       "5201353  Rural population (% of total population)  SP.RUR.TOTL.ZS  2011   \n",
       "5202181  Rural population (% of total population)  SP.RUR.TOTL.ZS  2011   \n",
       "\n",
       "             Value  \n",
       "5026679  43.434923  \n",
       "5027171  58.122724  \n",
       "5027719  37.900483  \n",
       "5028317  47.178432  \n",
       "5029090  51.195423  \n",
       "...            ...  \n",
       "5199258   5.240000  \n",
       "5199775  25.644000  \n",
       "5200511  67.698000  \n",
       "5201353  60.847000  \n",
       "5202181  66.985000  \n",
       "\n",
       "[245 rows x 6 columns]"
      ]
     },
     "execution_count": 25,
     "metadata": {},
     "output_type": "execute_result"
    }
   ],
   "source": [
    "# select countries in 2011\n",
    "indicatorRural = 'SP.RUR.TOTL.ZS'\n",
    "indicatorLife='SP.DYN.LE00.IN'\n",
    "year = 2011\n",
    "\n",
    "mask1 = data['IndicatorCode']==indicatorRural \n",
    "mask2 = data['IndicatorCode']==indicatorLife\n",
    "mask3 = data['Year'].isin([year])\n",
    "\n",
    "# apply our mask to get two datasets\n",
    "Rural2011 = data[mask1 & mask3]\n",
    "Life2011 = data[mask2 & mask3]\n",
    "Rural2011"
   ]
  },
  {
   "cell_type": "code",
   "execution_count": 26,
   "id": "62a5e9b6",
   "metadata": {},
   "outputs": [
    {
     "name": "stdout",
     "output_type": "stream",
     "text": [
      "245\n",
      "234\n"
     ]
    }
   ],
   "source": [
    "print(len(Rural2011))\n",
    "print(len(Life2011))\n",
    "# print(len(RuralLife))"
   ]
  },
  {
   "cell_type": "markdown",
   "id": "7830eff0",
   "metadata": {},
   "source": [
    "There's not the same number of observations so I would need to trim the observations to countries where we have observations both of rural populace and life expectancy. I have to filter the countries"
   ]
  },
  {
   "cell_type": "code",
   "execution_count": 27,
   "id": "7403004c",
   "metadata": {},
   "outputs": [
    {
     "data": {
      "text/plain": [
       "232"
      ]
     },
     "execution_count": 27,
     "metadata": {},
     "output_type": "execute_result"
    }
   ],
   "source": [
    "countries1 = Rural2011['CountryName'].unique().tolist()\n",
    "countries2 = Life2011['CountryName'].unique().tolist()\n",
    "countryfilter = list(set(countries1).intersection(countries2))\n",
    "len(countryfilter)\n",
    "# countryfilter"
   ]
  },
  {
   "cell_type": "code",
   "execution_count": 28,
   "id": "83f15f50",
   "metadata": {},
   "outputs": [
    {
     "name": "stdout",
     "output_type": "stream",
     "text": [
      "(232, 6)\n",
      "(232, 6)\n"
     ]
    }
   ],
   "source": [
    "# Here's the two datasets that has observations for both rural populace and life expectancy, \n",
    "# where we can see that the shape of the datasets are alike:\n",
    "\n",
    "Rural2011filterd = Rural2011.loc[Rural2011['CountryName'].isin(countryfilter)]\n",
    "Life2011filterd = Life2011.loc[Life2011['CountryName'].isin(countryfilter)]\n",
    "print(Rural2011filterd.shape)\n",
    "print(Life2011filterd.shape)"
   ]
  },
  {
   "cell_type": "code",
   "execution_count": 30,
   "id": "47e7674e",
   "metadata": {},
   "outputs": [
    {
     "data": {
      "text/html": [
       "<div>\n",
       "<style scoped>\n",
       "    .dataframe tbody tr th:only-of-type {\n",
       "        vertical-align: middle;\n",
       "    }\n",
       "\n",
       "    .dataframe tbody tr th {\n",
       "        vertical-align: top;\n",
       "    }\n",
       "\n",
       "    .dataframe thead th {\n",
       "        text-align: right;\n",
       "    }\n",
       "</style>\n",
       "<table border=\"1\" class=\"dataframe\">\n",
       "  <thead>\n",
       "    <tr style=\"text-align: right;\">\n",
       "      <th></th>\n",
       "      <th>CountryName</th>\n",
       "      <th>CountryCode_x</th>\n",
       "      <th>IndicatorName_x</th>\n",
       "      <th>IndicatorCode_x</th>\n",
       "      <th>Year_x</th>\n",
       "      <th>Value_x</th>\n",
       "      <th>CountryCode_y</th>\n",
       "      <th>IndicatorName_y</th>\n",
       "      <th>IndicatorCode_y</th>\n",
       "      <th>Year_y</th>\n",
       "      <th>Value_y</th>\n",
       "    </tr>\n",
       "  </thead>\n",
       "  <tbody>\n",
       "    <tr>\n",
       "      <th>0</th>\n",
       "      <td>Arab World</td>\n",
       "      <td>ARB</td>\n",
       "      <td>Rural population (% of total population)</td>\n",
       "      <td>SP.RUR.TOTL.ZS</td>\n",
       "      <td>2011</td>\n",
       "      <td>43.434923</td>\n",
       "      <td>ARB</td>\n",
       "      <td>Life expectancy at birth, total (years)</td>\n",
       "      <td>SP.DYN.LE00.IN</td>\n",
       "      <td>2011</td>\n",
       "      <td>70.219347</td>\n",
       "    </tr>\n",
       "    <tr>\n",
       "      <th>1</th>\n",
       "      <td>Caribbean small states</td>\n",
       "      <td>CSS</td>\n",
       "      <td>Rural population (% of total population)</td>\n",
       "      <td>SP.RUR.TOTL.ZS</td>\n",
       "      <td>2011</td>\n",
       "      <td>58.122724</td>\n",
       "      <td>CSS</td>\n",
       "      <td>Life expectancy at birth, total (years)</td>\n",
       "      <td>SP.DYN.LE00.IN</td>\n",
       "      <td>2011</td>\n",
       "      <td>71.572063</td>\n",
       "    </tr>\n",
       "    <tr>\n",
       "      <th>2</th>\n",
       "      <td>Central Europe and the Baltics</td>\n",
       "      <td>CEB</td>\n",
       "      <td>Rural population (% of total population)</td>\n",
       "      <td>SP.RUR.TOTL.ZS</td>\n",
       "      <td>2011</td>\n",
       "      <td>37.900483</td>\n",
       "      <td>CEB</td>\n",
       "      <td>Life expectancy at birth, total (years)</td>\n",
       "      <td>SP.DYN.LE00.IN</td>\n",
       "      <td>2011</td>\n",
       "      <td>75.936907</td>\n",
       "    </tr>\n",
       "    <tr>\n",
       "      <th>3</th>\n",
       "      <td>East Asia &amp; Pacific (all income levels)</td>\n",
       "      <td>EAS</td>\n",
       "      <td>Rural population (% of total population)</td>\n",
       "      <td>SP.RUR.TOTL.ZS</td>\n",
       "      <td>2011</td>\n",
       "      <td>47.178432</td>\n",
       "      <td>EAS</td>\n",
       "      <td>Life expectancy at birth, total (years)</td>\n",
       "      <td>SP.DYN.LE00.IN</td>\n",
       "      <td>2011</td>\n",
       "      <td>74.267169</td>\n",
       "    </tr>\n",
       "    <tr>\n",
       "      <th>4</th>\n",
       "      <td>East Asia &amp; Pacific (developing only)</td>\n",
       "      <td>EAP</td>\n",
       "      <td>Rural population (% of total population)</td>\n",
       "      <td>SP.RUR.TOTL.ZS</td>\n",
       "      <td>2011</td>\n",
       "      <td>51.195423</td>\n",
       "      <td>EAP</td>\n",
       "      <td>Life expectancy at birth, total (years)</td>\n",
       "      <td>SP.DYN.LE00.IN</td>\n",
       "      <td>2011</td>\n",
       "      <td>73.346099</td>\n",
       "    </tr>\n",
       "  </tbody>\n",
       "</table>\n",
       "</div>"
      ],
      "text/plain": [
       "                               CountryName CountryCode_x  \\\n",
       "0                               Arab World           ARB   \n",
       "1                   Caribbean small states           CSS   \n",
       "2           Central Europe and the Baltics           CEB   \n",
       "3  East Asia & Pacific (all income levels)           EAS   \n",
       "4    East Asia & Pacific (developing only)           EAP   \n",
       "\n",
       "                            IndicatorName_x IndicatorCode_x  Year_x  \\\n",
       "0  Rural population (% of total population)  SP.RUR.TOTL.ZS    2011   \n",
       "1  Rural population (% of total population)  SP.RUR.TOTL.ZS    2011   \n",
       "2  Rural population (% of total population)  SP.RUR.TOTL.ZS    2011   \n",
       "3  Rural population (% of total population)  SP.RUR.TOTL.ZS    2011   \n",
       "4  Rural population (% of total population)  SP.RUR.TOTL.ZS    2011   \n",
       "\n",
       "     Value_x CountryCode_y                          IndicatorName_y  \\\n",
       "0  43.434923           ARB  Life expectancy at birth, total (years)   \n",
       "1  58.122724           CSS  Life expectancy at birth, total (years)   \n",
       "2  37.900483           CEB  Life expectancy at birth, total (years)   \n",
       "3  47.178432           EAS  Life expectancy at birth, total (years)   \n",
       "4  51.195423           EAP  Life expectancy at birth, total (years)   \n",
       "\n",
       "  IndicatorCode_y  Year_y    Value_y  \n",
       "0  SP.DYN.LE00.IN    2011  70.219347  \n",
       "1  SP.DYN.LE00.IN    2011  71.572063  \n",
       "2  SP.DYN.LE00.IN    2011  75.936907  \n",
       "3  SP.DYN.LE00.IN    2011  74.267169  \n",
       "4  SP.DYN.LE00.IN    2011  73.346099  "
      ]
     },
     "execution_count": 30,
     "metadata": {},
     "output_type": "execute_result"
    }
   ],
   "source": [
    "# I'll merge the datasets: \n",
    "\n",
    "RuralLife = Rural2011filterd.merge(Life2011filterd, how='inner', on='CountryName')\n",
    "RuralLife.head()"
   ]
  },
  {
   "cell_type": "code",
   "execution_count": 31,
   "id": "fdebc506",
   "metadata": {},
   "outputs": [
    {
     "data": {
      "text/html": [
       "<div>\n",
       "<style scoped>\n",
       "    .dataframe tbody tr th:only-of-type {\n",
       "        vertical-align: middle;\n",
       "    }\n",
       "\n",
       "    .dataframe tbody tr th {\n",
       "        vertical-align: top;\n",
       "    }\n",
       "\n",
       "    .dataframe thead th {\n",
       "        text-align: right;\n",
       "    }\n",
       "</style>\n",
       "<table border=\"1\" class=\"dataframe\">\n",
       "  <thead>\n",
       "    <tr style=\"text-align: right;\">\n",
       "      <th></th>\n",
       "      <th>CountryName</th>\n",
       "      <th>IndicatorName_x</th>\n",
       "      <th>Year_x</th>\n",
       "      <th>Value_x</th>\n",
       "      <th>IndicatorName_y</th>\n",
       "      <th>Value_y</th>\n",
       "    </tr>\n",
       "  </thead>\n",
       "  <tbody>\n",
       "    <tr>\n",
       "      <th>0</th>\n",
       "      <td>Arab World</td>\n",
       "      <td>Rural population (% of total population)</td>\n",
       "      <td>2011</td>\n",
       "      <td>43.434923</td>\n",
       "      <td>Life expectancy at birth, total (years)</td>\n",
       "      <td>70.219347</td>\n",
       "    </tr>\n",
       "    <tr>\n",
       "      <th>2</th>\n",
       "      <td>Central Europe and the Baltics</td>\n",
       "      <td>Rural population (% of total population)</td>\n",
       "      <td>2011</td>\n",
       "      <td>37.900483</td>\n",
       "      <td>Life expectancy at birth, total (years)</td>\n",
       "      <td>75.936907</td>\n",
       "    </tr>\n",
       "    <tr>\n",
       "      <th>3</th>\n",
       "      <td>East Asia &amp; Pacific (all income levels)</td>\n",
       "      <td>Rural population (% of total population)</td>\n",
       "      <td>2011</td>\n",
       "      <td>47.178432</td>\n",
       "      <td>Life expectancy at birth, total (years)</td>\n",
       "      <td>74.267169</td>\n",
       "    </tr>\n",
       "    <tr>\n",
       "      <th>4</th>\n",
       "      <td>East Asia &amp; Pacific (developing only)</td>\n",
       "      <td>Rural population (% of total population)</td>\n",
       "      <td>2011</td>\n",
       "      <td>51.195423</td>\n",
       "      <td>Life expectancy at birth, total (years)</td>\n",
       "      <td>73.346099</td>\n",
       "    </tr>\n",
       "    <tr>\n",
       "      <th>5</th>\n",
       "      <td>Euro area</td>\n",
       "      <td>Rural population (% of total population)</td>\n",
       "      <td>2011</td>\n",
       "      <td>24.947519</td>\n",
       "      <td>Life expectancy at birth, total (years)</td>\n",
       "      <td>81.303071</td>\n",
       "    </tr>\n",
       "  </tbody>\n",
       "</table>\n",
       "</div>"
      ],
      "text/plain": [
       "                               CountryName  \\\n",
       "0                               Arab World   \n",
       "2           Central Europe and the Baltics   \n",
       "3  East Asia & Pacific (all income levels)   \n",
       "4    East Asia & Pacific (developing only)   \n",
       "5                                Euro area   \n",
       "\n",
       "                            IndicatorName_x  Year_x    Value_x  \\\n",
       "0  Rural population (% of total population)    2011  43.434923   \n",
       "2  Rural population (% of total population)    2011  37.900483   \n",
       "3  Rural population (% of total population)    2011  47.178432   \n",
       "4  Rural population (% of total population)    2011  51.195423   \n",
       "5  Rural population (% of total population)    2011  24.947519   \n",
       "\n",
       "                           IndicatorName_y    Value_y  \n",
       "0  Life expectancy at birth, total (years)  70.219347  \n",
       "2  Life expectancy at birth, total (years)  75.936907  \n",
       "3  Life expectancy at birth, total (years)  74.267169  \n",
       "4  Life expectancy at birth, total (years)  73.346099  \n",
       "5  Life expectancy at birth, total (years)  81.303071  "
      ]
     },
     "execution_count": 31,
     "metadata": {},
     "output_type": "execute_result"
    }
   ],
   "source": [
    "# We find that there's lots of unneccesary information in the dataframe, so I'll drop many of the Columns\n",
    "RuralLife.drop(index=1,columns=['CountryCode_x','IndicatorCode_x','IndicatorCode_y', 'CountryCode_y','Year_y'], inplace=True)\n",
    "RuralLife.head()"
   ]
  },
  {
   "cell_type": "code",
   "execution_count": 32,
   "id": "db43a9cf",
   "metadata": {},
   "outputs": [],
   "source": [
    "# And rename som columns to make it more easy to read\n",
    "RuralLife.rename(columns={\"Value_x\": \"ValueRural\", \"Value_y\": \"ValueLife\"},inplace=True)"
   ]
  },
  {
   "cell_type": "code",
   "execution_count": 33,
   "id": "a2d8113a",
   "metadata": {},
   "outputs": [
    {
     "data": {
      "text/html": [
       "<div>\n",
       "<style scoped>\n",
       "    .dataframe tbody tr th:only-of-type {\n",
       "        vertical-align: middle;\n",
       "    }\n",
       "\n",
       "    .dataframe tbody tr th {\n",
       "        vertical-align: top;\n",
       "    }\n",
       "\n",
       "    .dataframe thead th {\n",
       "        text-align: right;\n",
       "    }\n",
       "</style>\n",
       "<table border=\"1\" class=\"dataframe\">\n",
       "  <thead>\n",
       "    <tr style=\"text-align: right;\">\n",
       "      <th></th>\n",
       "      <th>Year_x</th>\n",
       "      <th>ValueRural</th>\n",
       "      <th>ValueLife</th>\n",
       "    </tr>\n",
       "  </thead>\n",
       "  <tbody>\n",
       "    <tr>\n",
       "      <th>Year_x</th>\n",
       "      <td>NaN</td>\n",
       "      <td>NaN</td>\n",
       "      <td>NaN</td>\n",
       "    </tr>\n",
       "    <tr>\n",
       "      <th>ValueRural</th>\n",
       "      <td>NaN</td>\n",
       "      <td>1.000000</td>\n",
       "      <td>-0.647974</td>\n",
       "    </tr>\n",
       "    <tr>\n",
       "      <th>ValueLife</th>\n",
       "      <td>NaN</td>\n",
       "      <td>-0.647974</td>\n",
       "      <td>1.000000</td>\n",
       "    </tr>\n",
       "  </tbody>\n",
       "</table>\n",
       "</div>"
      ],
      "text/plain": [
       "            Year_x  ValueRural  ValueLife\n",
       "Year_x         NaN         NaN        NaN\n",
       "ValueRural     NaN    1.000000  -0.647974\n",
       "ValueLife      NaN   -0.647974   1.000000"
      ]
     },
     "execution_count": 33,
     "metadata": {},
     "output_type": "execute_result"
    }
   ],
   "source": [
    "# First I'll check the correlation:\n",
    "RuralLife.corr(method='pearson')"
   ]
  },
  {
   "cell_type": "markdown",
   "id": "05f409ef",
   "metadata": {},
   "source": [
    "-0,65 is also a clear negative correlation. \n",
    "\n",
    "Time to look at a scatterplot of the values:"
   ]
  },
  {
   "cell_type": "code",
   "execution_count": 34,
   "id": "07684129",
   "metadata": {},
   "outputs": [
    {
     "data": {
      "image/png": "[encoded data removed]",
      "text/plain": [
       "<Figure size 432x288 with 1 Axes>"
      ]
     },
     "metadata": {
      "needs_background": "light"
     },
     "output_type": "display_data"
    }
   ],
   "source": [
    "# And finally I can set up a scatter-plot of the observations\n",
    "fig, axis = plt.subplots()\n",
    "\n",
    "axis.yaxis.grid(True)\n",
    "axis.set_title('Life expectancy and rate of rural population 2011',fontsize=12)\n",
    "axis.set_xlabel(stage_trunc['IndicatorName'].iloc[0],fontsize=10)\n",
    "axis.set_ylabel(stage2['IndicatorName'].iloc[0],fontsize=10)\n",
    "\n",
    "X = RuralLife['ValueRural']\n",
    "Y = RuralLife['ValueLife']\n",
    "plt.ylim(30,90)\n",
    "\n",
    "axis.scatter(X, Y)\n",
    "plt.show()\n"
   ]
  },
  {
   "cell_type": "markdown",
   "id": "086bd3ef",
   "metadata": {},
   "source": [
    "The scatterplot as expected shows a negative correlation, where the countries with higher rates of rural populace tends to have lower life expectancy at birth. "
   ]
  },
  {
   "cell_type": "markdown",
   "id": "4563fbe7",
   "metadata": {},
   "source": [
    "### Jeg kunne gjort dette uten å merge datasettene ser jeg, men det var litt sent"
   ]
  },
  {
   "cell_type": "code",
   "execution_count": 36,
   "id": "f8d4691c",
   "metadata": {},
   "outputs": [
    {
     "data": {
      "image/png": "[encoded data removed]",
      "text/plain": [
       "<Figure size 432x288 with 1 Axes>"
      ]
     },
     "metadata": {
      "needs_background": "light"
     },
     "output_type": "display_data"
    }
   ],
   "source": [
    "fig, axis = plt.subplots()\n",
    "# Grid lines, Xticks, Xlabel, Ylabel\n",
    "\n",
    "axis.yaxis.grid(True)\n",
    "axis.set_title('Life expectancy vs share of rural population',fontsize=15)\n",
    "axis.set_xlabel(stage_trunc['IndicatorName'].iloc[0],fontsize=10)\n",
    "axis.set_ylabel(stage2['IndicatorName'].iloc[0],fontsize=10)\n",
    "\n",
    "X2011 = Rural2011filterd['Value']\n",
    "Y2011 = Life2011filterd['Value']\n",
    "\n",
    "# Adjusting Y-axis\n",
    "# plt.ylim(50,100)\n",
    "\n",
    "# Adjusting x-axis\n",
    "# plt.xlim(10,60)\n",
    "\n",
    "axis.scatter(X2011, Y2011)\n",
    "plt.show()"
   ]
  },
  {
   "cell_type": "code",
   "execution_count": null,
   "id": "20d3a82e",
   "metadata": {},
   "outputs": [],
   "source": []
  },
  {
   "cell_type": "code",
   "execution_count": null,
   "id": "59f8b4e2",
   "metadata": {},
   "outputs": [],
   "source": []
  }
 ],
 "metadata": {
  "kernelspec": {
   "display_name": "Python 3 (ipykernel)",
   "language": "python",
   "name": "python3"
  },
  "language_info": {
   "codemirror_mode": {
    "name": "ipython",
    "version": 3
   },
   "file_extension": ".py",
   "mimetype": "text/x-python",
   "name": "python",
   "nbconvert_exporter": "python",
   "pygments_lexer": "ipython3",
   "version": "3.9.7"
  }
 },
 "nbformat": 4,
 "nbformat_minor": 5
}
