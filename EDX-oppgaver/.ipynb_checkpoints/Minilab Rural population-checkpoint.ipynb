{
 "cells": [
  {
   "cell_type": "markdown",
   "id": "a6607f1d",
   "metadata": {},
   "source": [
    "# Life expectancy and urban population"
   ]
  },
  {
   "cell_type": "code",
   "execution_count": null,
   "id": "b395aa82",
   "metadata": {},
   "outputs": [],
   "source": [
    "import pandas as pd\n",
    "import numpy as np\n",
    "import random\n",
    "import matplotlib.pyplot as plt"
   ]
  },
  {
   "cell_type": "markdown",
   "id": "82d55784",
   "metadata": {},
   "source": [
    "The first part is the same as the example where I explore the data. "
   ]
  },
  {
   "cell_type": "code",
   "execution_count": null,
   "id": "49601262",
   "metadata": {},
   "outputs": [],
   "source": [
    "data = pd.read_csv('./Indikatorer/Indicators.csv')\n",
    "data.shape"
   ]
  },
  {
   "cell_type": "code",
   "execution_count": null,
   "id": "0b36ea48",
   "metadata": {},
   "outputs": [],
   "source": [
    "data.tail()"
   ]
  },
  {
   "cell_type": "markdown",
   "id": "0b1ae0f1",
   "metadata": {},
   "source": [
    "I have to find the right indicators, and I'll make a list of countries"
   ]
  },
  {
   "cell_type": "code",
   "execution_count": null,
   "id": "832bd199",
   "metadata": {},
   "outputs": [],
   "source": [
    "# Indicators and countries\n",
    "countries = data['CountryName'].unique().tolist()\n",
    "indicators = data['IndicatorName'].unique().tolist()\n"
   ]
  },
  {
   "cell_type": "code",
   "execution_count": null,
   "id": "d86da949",
   "metadata": {},
   "outputs": [],
   "source": []
  },
  {
   "cell_type": "markdown",
   "id": "899b8304",
   "metadata": {},
   "source": [
    "This is a very long list and I prefer to look at the indicators in an excel format"
   ]
  },
  {
   "cell_type": "code",
   "execution_count": null,
   "id": "80a9bbd2",
   "metadata": {},
   "outputs": [],
   "source": [
    "df = pd.DataFrame(indicators)\n",
    "writer = pd.ExcelWriter('indicators.xlsx', engine='xlsxwriter')\n",
    "df.to_excel(writer, sheet_name='welcome', index=False)\n",
    "writer.save()"
   ]
  },
  {
   "cell_type": "markdown",
   "id": "a68e55da",
   "metadata": {},
   "source": [
    "Life expectancy at birth and Rural population seems to fit the bill. Using the setup from the course, I'll be looking into the figures for USA"
   ]
  },
  {
   "cell_type": "code",
   "execution_count": null,
   "id": "d4bbcbb3",
   "metadata": {},
   "outputs": [],
   "source": [
    "Life=data['IndicatorName'].str.contains('Life expectancy at birth, total')\n",
    "Rural=data['IndicatorCode'].str.contains('SP.RUR.TOTL.ZS')\n",
    "country=data['CountryCode'].str.contains('USA')"
   ]
  },
  {
   "cell_type": "code",
   "execution_count": null,
   "id": "aefd6859",
   "metadata": {},
   "outputs": [],
   "source": [
    "stage = data[Rural & country]\n",
    "stage2= data[Life & country]\n",
    "stage.head()"
   ]
  },
  {
   "cell_type": "code",
   "execution_count": null,
   "id": "4a93dc04",
   "metadata": {},
   "outputs": [],
   "source": [
    "stage.shape"
   ]
  },
  {
   "cell_type": "code",
   "execution_count": null,
   "id": "176ed9c0",
   "metadata": {},
   "outputs": [],
   "source": [
    "stage2.shape"
   ]
  },
  {
   "cell_type": "code",
   "execution_count": null,
   "id": "917f777c",
   "metadata": {},
   "outputs": [],
   "source": [
    "\n",
    "# get the years\n",
    "years = stage['Year'].values\n",
    "# get the values \n",
    "countryside = stage['Value'].values\n",
    "\n",
    "fig, axis = plt.subplots()\n",
    "# create histogram of % of rural population\n",
    "axis.set_title('Rural population, % of total population, USA',fontsize=12)\n",
    "axis.set_xlabel('Year',fontsize=10)\n",
    "axis.set_ylabel(stage['IndicatorName'].iloc[0],fontsize=10)\n",
    "\n",
    "plt.bar(years,countryside)\n",
    "plt.show()"
   ]
  },
  {
   "cell_type": "code",
   "execution_count": null,
   "id": "02defdbf",
   "metadata": {},
   "outputs": [],
   "source": [
    "# create histogram of expected lifespan \n",
    "years = stage2['Year'].values\n",
    "longlife = stage2['Value'].values\n",
    "\n",
    "fig, axis = plt.subplots()\n",
    "axis.set_title('Life expectancy at birth, USA',fontsize=12)\n",
    "axis.set_xlabel('Year',fontsize=10)\n",
    "axis.set_ylabel(stage2['IndicatorName'].iloc[0],fontsize=10)\n",
    "plt.bar(years,longlife)\n",
    "plt.show()"
   ]
  },
  {
   "cell_type": "markdown",
   "id": "73fe407b",
   "metadata": {},
   "source": [
    "So looking at the histograms for USA we immediately see that the development in column-sizes are oppoite, and we should expect a negative correlation. \n",
    "\n",
    "I'll set up a scatterplot of life expectancy and rate of rural living"
   ]
  },
  {
   "cell_type": "code",
   "execution_count": null,
   "id": "944e4ed8",
   "metadata": {},
   "outputs": [],
   "source": [
    "# first set similar timeframe. \n",
    "print(\"rural Min Year = \", stage['Year'].min(), \"max: \", stage['Year'].max())\n",
    "print(\"life Min Year = \", stage2['Year'].min(), \"max: \", stage2['Year'].max())\n"
   ]
  },
  {
   "cell_type": "code",
   "execution_count": null,
   "id": "eebc970d",
   "metadata": {},
   "outputs": [],
   "source": [
    "# Which means that I need to stop at 2013:\n",
    "stage_trunc = stage[stage['Year'] < 2014]\n",
    "print(len(stage_trunc))\n",
    "print(len(stage2))"
   ]
  },
  {
   "cell_type": "markdown",
   "id": "2f6dea95",
   "metadata": {},
   "source": [
    "Now I'm ready to draw a scatterplot:"
   ]
  },
  {
   "cell_type": "code",
   "execution_count": null,
   "id": "812f3268",
   "metadata": {},
   "outputs": [],
   "source": [
    "# %matplotlib inline\n",
    "# import matplotlib.pyplot as plt\n",
    "\n",
    "fig, axis = plt.subplots()\n",
    "# Grid lines, Xticks, Xlabel, Ylabel\n",
    "\n",
    "axis.yaxis.grid(True)\n",
    "axis.set_title('Life expectancy vs share of rural population',fontsize=15)\n",
    "axis.set_xlabel(stage_trunc['IndicatorName'].iloc[0],fontsize=10)\n",
    "axis.set_ylabel(stage2['IndicatorName'].iloc[0],fontsize=10)\n",
    "\n",
    "X = stage_trunc['Value']\n",
    "Y = stage2['Value']\n",
    "\n",
    "# Adjusting Y-axis\n",
    "plt.ylim(0,100)\n",
    "\n",
    "# Adjusting x-axis\n",
    "plt.xlim(0,100)\n",
    "\n",
    "axis.scatter(X, Y)\n",
    "plt.show()"
   ]
  },
  {
   "cell_type": "markdown",
   "id": "5ea0956e",
   "metadata": {},
   "source": [
    "I think it's easier just to use the automatically generated axises"
   ]
  },
  {
   "cell_type": "code",
   "execution_count": null,
   "id": "90bd36e2",
   "metadata": {},
   "outputs": [],
   "source": [
    "# %matplotlib inline\n",
    "# import matplotlib.pyplot as plt\n",
    "\n",
    "fig, axis = plt.subplots()\n",
    "# Grid lines, Xticks, Xlabel, Ylabel\n",
    "\n",
    "axis.yaxis.grid(True)\n",
    "axis.set_title('Life expectancy vs share of rural population',fontsize=15)\n",
    "axis.set_xlabel(stage_trunc['IndicatorName'].iloc[0],fontsize=10)\n",
    "axis.set_ylabel(stage2['IndicatorName'].iloc[0],fontsize=10)\n",
    "\n",
    "XUSA = stage_trunc['Value']\n",
    "YUSA = stage2['Value']\n",
    "\n",
    "# Adjusting Y-axis\n",
    "# plt.ylim(50,100)\n",
    "\n",
    "# Adjusting x-axis\n",
    "# plt.xlim(10,60)\n",
    "\n",
    "axis.scatter(XUSA, YUSA)\n",
    "plt.show()"
   ]
  },
  {
   "cell_type": "code",
   "execution_count": null,
   "id": "b1c124cc",
   "metadata": {},
   "outputs": [],
   "source": [
    "# correlation\n",
    "np.corrcoef(stage_trunc['Value'],stage2['Value'])"
   ]
  },
  {
   "cell_type": "markdown",
   "id": "198630dd",
   "metadata": {},
   "source": [
    "The data from USA shows a very strong negative correlation between life expectancy and share of rural population, and does not support the thesis. \n",
    "Of course, lack of correlation is not evidence. Let's try with another country. I used a random country finder from the dataset, and Mexico turned up. "
   ]
  },
  {
   "cell_type": "code",
   "execution_count": null,
   "id": "c5ed347d",
   "metadata": {},
   "outputs": [],
   "source": [
    "countryFilter = random.sample(data['CountryName'].unique().tolist(),1)\n",
    "countryFilter1 = countryFilter[0]\n",
    "countryFilter1"
   ]
  },
  {
   "cell_type": "markdown",
   "id": "4bddc034",
   "metadata": {},
   "source": [
    "It's not really practical to work with randomly generated datasets based on random countries when you are making a presentation, so it's easier to fix the country. That way you can reproduce the graphs. \n",
    "\n",
    "In order to replace the scatterplots with the randomly generated countries, you have to replace the countryMexico variable with the variable countryRandom given by the code below:"
   ]
  },
  {
   "cell_type": "code",
   "execution_count": null,
   "id": "51dc770b",
   "metadata": {},
   "outputs": [],
   "source": [
    "countryMexico=data['CountryName']=='Mexico'\n",
    "\n",
    "# countryRandom=data['CountryName']==countryFilter1\n",
    "# countryRandom"
   ]
  },
  {
   "cell_type": "code",
   "execution_count": null,
   "id": "c4e7cee9",
   "metadata": {},
   "outputs": [],
   "source": [
    "# Scatterplot\n",
    "country2stage = data[Rural & countryMexico]\n",
    "country2stage2= data[Life & countryMexico]\n",
    "\n",
    "# To make the graph based on the random country, replace with these lines of codes and run the following cells\n",
    "\n",
    "# country2stage = data[Rural & countryRandom]\n",
    "# country2stage2= data[Life & countryRandom]"
   ]
  },
  {
   "cell_type": "code",
   "execution_count": null,
   "id": "079a8613",
   "metadata": {},
   "outputs": [],
   "source": [
    "# first set similar timeframe. \n",
    "print(\"rural Min Year = \", country2stage['Year'].min(), \"max: \", country2stage['Year'].max())\n",
    "print(\"life Min Year = \", country2stage2['Year'].min(), \"max: \", country2stage2['Year'].max())\n"
   ]
  },
  {
   "cell_type": "code",
   "execution_count": null,
   "id": "7253bb6b",
   "metadata": {},
   "outputs": [],
   "source": [
    "# Which means that I need to stop at 2013:\n",
    "country2stage = country2stage[country2stage['Year'] < 2014]\n",
    "print(len(country2stage))\n",
    "print(len(country2stage2))"
   ]
  },
  {
   "cell_type": "code",
   "execution_count": null,
   "id": "fcfbf49a",
   "metadata": {},
   "outputs": [],
   "source": [
    "# Here's the scatterplot for Mexico:\n",
    "\n",
    "fig, axis = plt.subplots()\n",
    "# Grid lines, Xticks, Xlabel, Ylabel\n",
    "\n",
    "axis.yaxis.grid(True)\n",
    "axis.set_title('Life expectancy vs share of rural population for '+countryFilter1,fontsize=10)\n",
    "axis.set_xlabel(stage_trunc['IndicatorName'].iloc[0],fontsize=10)\n",
    "axis.set_ylabel(stage2['IndicatorName'].iloc[0],fontsize=10)\n",
    "\n",
    "X = country2stage['Value']\n",
    "Y = country2stage2['Value']\n",
    "\n",
    "# Adjusting Y-axis\n",
    "# plt.ylim(0,10+max(Y))\n",
    "\n",
    "# Adjusting x-axis\n",
    "# plt.xlim(20,80)\n",
    "\n",
    "axis.scatter(X, Y, color=\"orange\")\n",
    "plt.show()"
   ]
  },
  {
   "cell_type": "code",
   "execution_count": null,
   "id": "c67c97e8",
   "metadata": {},
   "outputs": [],
   "source": [
    "# and the Correlation for Mexico:\n",
    "# correlation\n",
    "np.corrcoef(country2stage['Value'],country2stage2['Value'])"
   ]
  },
  {
   "cell_type": "markdown",
   "id": "710a6316",
   "metadata": {},
   "source": [
    "For Mexico the the data shows almost a linear negative relationship between the two indicators. I fact the correlation is almost -1, which would be linear. \n",
    "\n",
    "Now to plot the two figures together: "
   ]
  },
  {
   "cell_type": "code",
   "execution_count": null,
   "id": "6daa615c",
   "metadata": {},
   "outputs": [],
   "source": [
    "fig, axis = plt.subplots()\n",
    "\n",
    "plt.scatter(XUSA,YUSA, color='blue', label='USA')\n",
    "plt.scatter(X, Y, color=\"orange\" ,label='Mexico')\n",
    "plt.legend(loc='upper right')\n",
    "\n",
    "axis.yaxis.grid(True)\n",
    "axis.set_title('Life expectancy vs share of rural population for USA and Mexico',fontsize=10)\n",
    "axis.set_xlabel(stage_trunc['IndicatorName'].iloc[0],fontsize=10)\n",
    "axis.set_ylabel(stage2['IndicatorName'].iloc[0],fontsize=10)\n",
    "plt.show()"
   ]
  },
  {
   "cell_type": "markdown",
   "id": "148d1465",
   "metadata": {},
   "source": [
    "Now I also want to test my question across countries in a given year\n",
    "\n",
    "First I'll check for missing data, and choose only the countries that have data for both indicators in 2011"
   ]
  },
  {
   "cell_type": "code",
   "execution_count": null,
   "id": "6e15bc36",
   "metadata": {},
   "outputs": [],
   "source": [
    "# select countries in 2011\n",
    "indicatorRural = 'SP.RUR.TOTL.ZS'\n",
    "indicatorLife='SP.DYN.LE00.IN'\n",
    "year = 2011\n",
    "\n",
    "mask1 = data['IndicatorCode']==indicatorRural \n",
    "mask2 = data['IndicatorCode']==indicatorLife\n",
    "mask3 = data['Year'].isin([year])\n",
    "\n",
    "# apply our mask to get two datasets\n",
    "Rural2011 = data[mask1 & mask3]\n",
    "Life2011 = data[mask2 & mask3]\n",
    "Rural2011"
   ]
  },
  {
   "cell_type": "code",
   "execution_count": null,
   "id": "62a5e9b6",
   "metadata": {},
   "outputs": [],
   "source": [
    "print(len(Rural2011))\n",
    "print(len(Life2011))\n",
    "# print(len(RuralLife))"
   ]
  },
  {
   "cell_type": "markdown",
   "id": "7830eff0",
   "metadata": {},
   "source": [
    "There's not the same number of observations so I would need to trim the observations to countries where we have observations both of rural populace and life expectancy. I have to filter the countries"
   ]
  },
  {
   "cell_type": "code",
   "execution_count": null,
   "id": "7403004c",
   "metadata": {},
   "outputs": [],
   "source": [
    "countries1 = Rural2011['CountryName'].unique().tolist()\n",
    "countries2 = Life2011['CountryName'].unique().tolist()\n",
    "countryfilter = list(set(countries1).intersection(countries2))\n",
    "len(countryfilter)\n",
    "# countryfilter"
   ]
  },
  {
   "cell_type": "code",
   "execution_count": null,
   "id": "83f15f50",
   "metadata": {},
   "outputs": [],
   "source": [
    "# Here's the two datasets that has observations for both rural populace and life expectancy, \n",
    "# where we can see that the shape of the datasets are alike:\n",
    "\n",
    "Rural2011filterd = Rural2011.loc[Rural2011['CountryName'].isin(countryfilter)]\n",
    "Life2011filterd = Life2011.loc[Life2011['CountryName'].isin(countryfilter)]\n",
    "print(Rural2011filterd.shape)\n",
    "print(Life2011filterd.shape)"
   ]
  },
  {
   "cell_type": "code",
   "execution_count": null,
   "id": "47e7674e",
   "metadata": {},
   "outputs": [],
   "source": [
    "# I'll merge the datasets: \n",
    "\n",
    "RuralLife = Rural2011filterd.merge(Life2011filterd, how='inner', on='CountryName')\n",
    "RuralLife.head()"
   ]
  },
  {
   "cell_type": "code",
   "execution_count": null,
   "id": "fdebc506",
   "metadata": {},
   "outputs": [],
   "source": [
    "# We find that there's lots of unneccesary information in the dataframe, so I'll drop many of the Columns\n",
    "RuralLife.drop(index=1,columns=['CountryCode_x','IndicatorCode_x','IndicatorCode_y', 'CountryCode_y','Year_y'], inplace=True)\n",
    "RuralLife.head()"
   ]
  },
  {
   "cell_type": "code",
   "execution_count": null,
   "id": "db43a9cf",
   "metadata": {},
   "outputs": [],
   "source": [
    "# And rename som columns to make it more easy to read\n",
    "RuralLife.rename(columns={\"Value_x\": \"ValueRural\", \"Value_y\": \"ValueLife\"},inplace=True)"
   ]
  },
  {
   "cell_type": "code",
   "execution_count": null,
   "id": "a2d8113a",
   "metadata": {},
   "outputs": [],
   "source": [
    "# First I'll check the correlation:\n",
    "RuralLife.corr(method='pearson')"
   ]
  },
  {
   "cell_type": "markdown",
   "id": "05f409ef",
   "metadata": {},
   "source": [
    "-0,65 is also a clear negative correlation. \n",
    "\n",
    "Time to look at a scatterplot of the values:"
   ]
  },
  {
   "cell_type": "code",
   "execution_count": null,
   "id": "07684129",
   "metadata": {},
   "outputs": [],
   "source": [
    "# And finally I can set up a scatter-plot of the observations\n",
    "fig, axis = plt.subplots()\n",
    "\n",
    "axis.yaxis.grid(True)\n",
    "axis.set_title('Life expectancy and rate of rural population 2011',fontsize=12)\n",
    "axis.set_xlabel(stage_trunc['IndicatorName'].iloc[0],fontsize=10)\n",
    "axis.set_ylabel(stage2['IndicatorName'].iloc[0],fontsize=10)\n",
    "\n",
    "X = RuralLife['ValueRural']\n",
    "Y = RuralLife['ValueLife']\n",
    "plt.ylim(30,90)\n",
    "\n",
    "axis.scatter(X, Y)\n",
    "plt.show()\n"
   ]
  },
  {
   "cell_type": "markdown",
   "id": "086bd3ef",
   "metadata": {},
   "source": [
    "The scatterplot as expected shows a negative correlation, where the countries with higher rates of rural populace tends to have lower life expectancy at birth. "
   ]
  },
  {
   "cell_type": "markdown",
   "id": "4563fbe7",
   "metadata": {},
   "source": [
    "### Jeg kunne gjort dette uten å merge datasettene ser jeg, men det var litt sent"
   ]
  },
  {
   "cell_type": "code",
   "execution_count": null,
   "id": "f8d4691c",
   "metadata": {},
   "outputs": [],
   "source": [
    "fig, axis = plt.subplots()\n",
    "# Grid lines, Xticks, Xlabel, Ylabel\n",
    "\n",
    "axis.yaxis.grid(True)\n",
    "axis.set_title('Life expectancy vs share of rural population',fontsize=15)\n",
    "axis.set_xlabel(stage_trunc['IndicatorName'].iloc[0],fontsize=10)\n",
    "axis.set_ylabel(stage2['IndicatorName'].iloc[0],fontsize=10)\n",
    "\n",
    "X2011 = Rural2011filterd['Value']\n",
    "Y2011 = Life2011filterd['Value']\n",
    "\n",
    "# Adjusting Y-axis\n",
    "# plt.ylim(50,100)\n",
    "\n",
    "# Adjusting x-axis\n",
    "# plt.xlim(10,60)\n",
    "\n",
    "axis.scatter(X2011, Y2011)\n",
    "plt.show()"
   ]
  },
  {
   "cell_type": "code",
   "execution_count": null,
   "id": "20d3a82e",
   "metadata": {},
   "outputs": [],
   "source": []
  },
  {
   "cell_type": "code",
   "execution_count": null,
   "id": "59f8b4e2",
   "metadata": {},
   "outputs": [],
   "source": []
  }
 ],
 "metadata": {
  "language_info": {
   "codemirror_mode": {
    "name": "ipython"
   },
   "file_extension": ".py",
   "mimetype": "text/x-python",
   "name": "python",
   "nbconvert_exporter": "python"
  }
 },
 "nbformat": 4,
 "nbformat_minor": 5
}
