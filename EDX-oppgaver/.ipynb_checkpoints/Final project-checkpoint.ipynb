{
 "cells": [
  {
   "cell_type": "markdown",
   "id": "922ab6ad",
   "metadata": {},
   "source": [
    "# Predicting population growth based on development indicators\n"
   ]
  },
  {
   "cell_type": "markdown",
   "id": "e2ed5049",
   "metadata": {},
   "source": [
    "Can you train a model to predict the population growth based on other development indicators?  "
   ]
  },
  {
   "cell_type": "markdown",
   "id": "f5d7ef4c",
   "metadata": {},
   "source": [
    "First I'm going to have a look at how population growth is in the world based on the development indicators. "
   ]
  },
  {
   "cell_type": "code",
   "execution_count": null,
   "id": "1e274d13",
   "metadata": {},
   "outputs": [],
   "source": [
    "pip install folium "
   ]
  },
  {
   "cell_type": "code",
   "execution_count": null,
   "id": "9d27ea0e",
   "metadata": {},
   "outputs": [],
   "source": [
    "import pandas as pd\n",
    "import numpy as np\n",
    "import random\n",
    "# import matplotlib.pyplot as plt\n",
    "# from sklearn.preprocessing import StandardScaler\n",
    "import folium"
   ]
  },
  {
   "cell_type": "markdown",
   "id": "c1ee5036",
   "metadata": {},
   "source": [
    "First I need to download the dataset to a variable"
   ]
  },
  {
   "cell_type": "code",
   "execution_count": null,
   "id": "d5288fa9",
   "metadata": {},
   "outputs": [],
   "source": [
    "data = pd.read_csv('./Indikatorer/Indicators.csv')"
   ]
  },
  {
   "cell_type": "code",
   "execution_count": null,
   "id": "012f6fc6",
   "metadata": {},
   "outputs": [],
   "source": [
    "# quick look at the columns\n",
    "data.head()"
   ]
  },
  {
   "cell_type": "markdown",
   "id": "202877bd",
   "metadata": {},
   "source": [
    "First I prefer to scan through the indicators. I find that Excel is a decent way of looking at the indicators. So I'm making a dataframe that only contains the unique indicator names and corresponding codes. Further on it's probably easier to use the codes, than the names "
   ]
  },
  {
   "cell_type": "code",
   "execution_count": null,
   "id": "08d3c39c",
   "metadata": {},
   "outputs": [],
   "source": [
    "data2 =data[['IndicatorName','IndicatorCode']].drop_duplicates()\n",
    "data2.head()\n",
    "type(data2)"
   ]
  },
  {
   "cell_type": "code",
   "execution_count": null,
   "id": "7492df46",
   "metadata": {},
   "outputs": [],
   "source": [
    "data2.to_excel('./Indikatorer.xlsx')"
   ]
  },
  {
   "cell_type": "markdown",
   "id": "37f85b8c",
   "metadata": {},
   "source": [
    "I am trying to train a model for the population growth across different countries. So first i'd like to look at how the growth differs across different countries and years. "
   ]
  },
  {
   "cell_type": "markdown",
   "id": "7ae817af",
   "metadata": {},
   "source": [
    "### Coordinates:\n",
    "\n",
    "Source is the same as the one used in the course: https://github.com/python-visualization/folium/blob/master/examples/data/world-countries.json\n",
    "Raw form: https://raw.githubusercontent.com/python-visualization/folium/588670cf1e9518f159b0eee02f75185301327342/examples/data/world-countries.json"
   ]
  },
  {
   "cell_type": "code",
   "execution_count": null,
   "id": "0e9952d2",
   "metadata": {},
   "outputs": [],
   "source": [
    "country_geo = 'geo/world-countries.json'"
   ]
  },
  {
   "cell_type": "code",
   "execution_count": null,
   "id": "f7e56624",
   "metadata": {},
   "outputs": [],
   "source": [
    "country_geo"
   ]
  },
  {
   "cell_type": "code",
   "execution_count": null,
   "id": "fb937b50",
   "metadata": {},
   "outputs": [],
   "source": [
    "# select population growth for all countries in 2000\n",
    "growthIndicator = 'SP.POP.GROW'\n",
    "\n",
    "mask1 = data['IndicatorCode'].str.contains(growthIndicator) \n",
    "year2011 = data['Year'].isin([2011])\n",
    "year1960 = data['Year'].isin([1960])\n",
    "\n",
    "# apply our mask\n",
    "stage2011 = data[mask1 & year2011]\n",
    "stage1960 = data[mask1 & year1960]\n",
    "stage1960.head()"
   ]
  },
  {
   "cell_type": "code",
   "execution_count": null,
   "id": "3c6f83dd",
   "metadata": {},
   "outputs": [],
   "source": [
    "# Now I am creating a dataframe containing only the data I need, The countrycodes and the values for population growth\n",
    "plot_data2011 = stage2011[['CountryCode','Value']]\n",
    "plot_data2011.describe()"
   ]
  },
  {
   "cell_type": "code",
   "execution_count": null,
   "id": "12f407f8",
   "metadata": {},
   "outputs": [],
   "source": [
    "# This is the label for the legend\n",
    "growthIndicator = stage2011.iloc[0]['IndicatorName']"
   ]
  },
  {
   "cell_type": "code",
   "execution_count": null,
   "id": "1ae44dcf",
   "metadata": {},
   "outputs": [],
   "source": [
    "# Plotting the population growth on a geographical overlay\n",
    "map = folium.Map(location=[0, 0], zoom_start=1.5)"
   ]
  },
  {
   "cell_type": "code",
   "execution_count": null,
   "id": "6af11e60",
   "metadata": {},
   "outputs": [],
   "source": [
    "bins = [-6, -4 -2, 0, 2, 4, 6, 8, 10]"
   ]
  },
  {
   "cell_type": "code",
   "execution_count": null,
   "id": "41d1f8b4",
   "metadata": {},
   "outputs": [],
   "source": [
    "map.choropleth(geo_data=country_geo, data=plot_data2011,\n",
    "             columns=['CountryCode', 'Value'],\n",
    "             key_on='feature.id',\n",
    "             fill_color='YlGnBu', fill_opacity=0.7, line_opacity=0.2, bins=bins)"
   ]
  },
  {
   "cell_type": "code",
   "execution_count": null,
   "id": "496d56ce",
   "metadata": {},
   "outputs": [],
   "source": [
    "# Create Folium plot\n",
    "map.save('plot_data2011.html')"
   ]
  },
  {
   "cell_type": "code",
   "execution_count": null,
   "id": "b7d4e78c",
   "metadata": {},
   "outputs": [],
   "source": [
    "# Import the Folium interactive html file\n",
    "from IPython.display import HTML\n",
    "HTML('<iframe src=plot_data2011.html width=700 height=600></iframe>')"
   ]
  },
  {
   "cell_type": "code",
   "execution_count": null,
   "id": "5d7e67b8",
   "metadata": {},
   "outputs": [],
   "source": [
    "# And for a different Year(1960): \n",
    "plot_data1960 = stage1960[['CountryCode','Value']]\n",
    "plot_data1960.describe()"
   ]
  },
  {
   "cell_type": "code",
   "execution_count": null,
   "id": "1c0ba78f",
   "metadata": {},
   "outputs": [],
   "source": [
    "# And for a different Year(1960): \n",
    "growthIndicator = stage1960.iloc[0]['IndicatorName']"
   ]
  },
  {
   "cell_type": "code",
   "execution_count": null,
   "id": "d565a561",
   "metadata": {},
   "outputs": [],
   "source": [
    "map.choropleth(geo_data=country_geo, data=plot_data1960,\n",
    "             columns=['CountryCode', 'Value'],\n",
    "             key_on='feature.id',\n",
    "             fill_color='YlGnBu', fill_opacity=0.7, line_opacity=0.2,  bins=bins  ) "
   ]
  },
  {
   "cell_type": "code",
   "execution_count": null,
   "id": "6ad484b7",
   "metadata": {},
   "outputs": [],
   "source": [
    "# Create Folium plot\n",
    "map.save('plot_data1960.html')"
   ]
  },
  {
   "cell_type": "code",
   "execution_count": null,
   "id": "80566e90",
   "metadata": {},
   "outputs": [],
   "source": [
    "# Import the Folium interactive html file\n",
    "from IPython.display import HTML\n",
    "HTML('<iframe src=plot_data1960.html width=700 height=600></iframe>')"
   ]
  },
  {
   "cell_type": "markdown",
   "id": "57556ea2",
   "metadata": {},
   "source": [
    "## Now to check if the indicators can predict population growth. \n",
    "\n",
    "I think it's best to use linear regression for this task. I will therefore import the relevant packages"
   ]
  },
  {
   "cell_type": "code",
   "execution_count": null,
   "id": "2cb437fb",
   "metadata": {},
   "outputs": [],
   "source": [
    "# import sqlite3\n",
    "# import pandas as pd \n",
    "from sklearn.tree import DecisionTreeRegressor\n",
    "from sklearn.linear_model import LinearRegression\n",
    "from sklearn.model_selection import train_test_split\n",
    "from sklearn.metrics import mean_squared_error\n",
    "from math import sqrt"
   ]
  },
  {
   "cell_type": "markdown",
   "id": "0cca005a",
   "metadata": {},
   "source": [
    "I'll make an array of the indicators and make a smaller dataset containing only the ones that I want to investigate. "
   ]
  },
  {
   "cell_type": "code",
   "execution_count": null,
   "id": "83e77e2f",
   "metadata": {},
   "outputs": [],
   "source": [
    "dev  = ['NY.GDP.PCAP.CD', \n",
    "        'SI.DST.10TH.10',\n",
    "        'SP.DYN.LE00.IN',\n",
    "        'SL.UEM.LTRM.ZS',\n",
    "        'MS.MIL.XPND.GD.ZS',\n",
    "        'SH.MED.PHYS.ZS',\n",
    "        'IS.RRS.TOTL.KM',\n",
    "        'SP.RUR.TOTL.ZG',\n",
    "        'SP.URB.TOTL.IN.ZS',\n",
    "        'EN.ATM.CO2E.KD.GD',\n",
    "        'SP.DYN.TFRT.IN',\n",
    "        'SP.POP.GROW']\n",
    "small = data.loc[data['IndicatorCode'].isin(dev)]\n",
    "\n",
    "small.head()"
   ]
  },
  {
   "cell_type": "markdown",
   "id": "b828a596",
   "metadata": {},
   "source": [
    "In order to use the techniques used in the course, I will need to transform the dataset from a \"tall\" to a \"flat\" dataset. I will do this in a series of steps:"
   ]
  },
  {
   "cell_type": "code",
   "execution_count": null,
   "id": "2a6d847e",
   "metadata": {},
   "outputs": [],
   "source": [
    "# First drop unneccesary columns\n",
    "small2 = small.drop(['CountryCode', 'IndicatorCode'], axis=1)\n",
    "small2.head(15)"
   ]
  },
  {
   "cell_type": "markdown",
   "id": "61954262",
   "metadata": {},
   "source": [
    "Then I'll pivot the data and make a new flat dataset. "
   ]
  },
  {
   "cell_type": "code",
   "execution_count": null,
   "id": "a603501c",
   "metadata": {},
   "outputs": [],
   "source": [
    "df_pivot=small2.pivot(index=['CountryName','Year'], columns='IndicatorName',values=['Value'])\n",
    "df_pivot.head()"
   ]
  },
  {
   "cell_type": "code",
   "execution_count": null,
   "id": "d5adeff7",
   "metadata": {},
   "outputs": [],
   "source": [
    "# Now removing levels and setting the data on the same level\n",
    "df_pivot.columns = df_pivot.columns.droplevel()\n",
    "df_pivot"
   ]
  },
  {
   "cell_type": "code",
   "execution_count": null,
   "id": "a03418d6",
   "metadata": {},
   "outputs": [],
   "source": [
    "modified_df=df_pivot.rename_axis(None,axis=1)\n",
    "modified_df"
   ]
  },
  {
   "cell_type": "code",
   "execution_count": null,
   "id": "03f758f6",
   "metadata": {},
   "outputs": [],
   "source": [
    "# Finally we set the indexes at the same level:\n",
    "modified_df=modified_df.reset_index()\n",
    "modified_df.head()"
   ]
  },
  {
   "cell_type": "code",
   "execution_count": null,
   "id": "9b35ebbd",
   "metadata": {},
   "outputs": [],
   "source": [
    "modified_df.describe()"
   ]
  },
  {
   "cell_type": "markdown",
   "id": "8bb20a59",
   "metadata": {},
   "source": [
    "Looking at the data in the above table, I immediately see that many of the indicators are missing for a lot of the years. I will therefore drop those columns"
   ]
  },
  {
   "cell_type": "code",
   "execution_count": null,
   "id": "743b3ac4",
   "metadata": {},
   "outputs": [],
   "source": [
    "modified_df.drop(['CO2 emissions (kg per 2005 US$ of GDP)','Income share held by highest 10%','Long-term unemployment (% of total unemployment)','Military expenditure (% of GDP)','Physicians (per 1,000 people)','Rail lines (total route-km)'], axis=1, inplace=True)\n",
    "modified_df.head()"
   ]
  },
  {
   "cell_type": "markdown",
   "id": "ef14851e",
   "metadata": {},
   "source": [
    "Cleaning the data: "
   ]
  },
  {
   "cell_type": "code",
   "execution_count": null,
   "id": "b4a2e7be",
   "metadata": {},
   "outputs": [],
   "source": [
    "cleaned=modified_df.dropna()\n",
    "cleaned.describe()"
   ]
  },
  {
   "cell_type": "code",
   "execution_count": null,
   "id": "266f5642",
   "metadata": {},
   "outputs": [],
   "source": [
    "cleaned.shape"
   ]
  },
  {
   "cell_type": "code",
   "execution_count": null,
   "id": "52699b12",
   "metadata": {},
   "outputs": [],
   "source": [
    "cleaned.iloc[100]"
   ]
  },
  {
   "cell_type": "markdown",
   "id": "abbb4e76",
   "metadata": {},
   "source": [
    "First let's take a look at the correlation "
   ]
  },
  {
   "cell_type": "code",
   "execution_count": null,
   "id": "b09a09fb",
   "metadata": {},
   "outputs": [],
   "source": [
    "cleaned.corr()"
   ]
  },
  {
   "cell_type": "markdown",
   "id": "f6990272",
   "metadata": {},
   "source": [
    "From the table we can see that the correlation for population growth is not particularly strong with any of the indicators"
   ]
  },
  {
   "cell_type": "markdown",
   "id": "c1f49fe5",
   "metadata": {},
   "source": [
    "I now have a dataset with 9560 rows and where I would like to see if the five indicators:\n",
    "- Fertility rate, total (births per woman)\n",
    "- GDP per capita (current US$)\n",
    "- Life expectancy at birth, total (years)\n",
    "- Rural population growth (annual %)\n",
    "- Urban population (% of total)\n",
    "\n",
    "Can be used to predict the population growth: \n",
    "- Population growth (annual %)\t\n",
    "\n",
    "First I'll set up an array of the development indicators:"
   ]
  },
  {
   "cell_type": "code",
   "execution_count": null,
   "id": "3a0639d8",
   "metadata": {},
   "outputs": [],
   "source": [
    "development  = ['Fertility rate, total (births per woman)',\n",
    "        'GDP per capita (current US$)',\n",
    "        'Life expectancy at birth, total (years)',\n",
    "        'Rural population growth (annual %)',\n",
    "        'Urban population (% of total)']"
   ]
  },
  {
   "cell_type": "markdown",
   "id": "0557dd14",
   "metadata": {},
   "source": [
    "\n",
    "... and declare what the target indicator is"
   ]
  },
  {
   "cell_type": "code",
   "execution_count": null,
   "id": "56aa221b",
   "metadata": {},
   "outputs": [],
   "source": [
    "target =['Population growth (annual %)']"
   ]
  },
  {
   "cell_type": "markdown",
   "id": "373ae891",
   "metadata": {},
   "source": [
    "Extracting dev and target values into separate dataframes so that i can fit the model:"
   ]
  },
  {
   "cell_type": "code",
   "execution_count": null,
   "id": "d771de75",
   "metadata": {},
   "outputs": [],
   "source": [
    "X = cleaned[development]\n",
    "X"
   ]
  },
  {
   "cell_type": "code",
   "execution_count": null,
   "id": "a83c1f74",
   "metadata": {},
   "outputs": [],
   "source": [
    "y = cleaned[target]\n",
    "y"
   ]
  },
  {
   "cell_type": "markdown",
   "id": "dc9557af",
   "metadata": {},
   "source": [
    "Splitting the dataset into training and testing "
   ]
  },
  {
   "cell_type": "code",
   "execution_count": null,
   "id": "6c2bd55f",
   "metadata": {},
   "outputs": [],
   "source": [
    "X_train, X_test, y_train, y_test = train_test_split(X, y, test_size=0.33, random_state=3)"
   ]
  },
  {
   "cell_type": "markdown",
   "id": "c2d36b35",
   "metadata": {},
   "source": [
    "(1) Linear Regression: Fit a model to the training set"
   ]
  },
  {
   "cell_type": "code",
   "execution_count": null,
   "id": "22611066",
   "metadata": {},
   "outputs": [],
   "source": [
    "regressor = LinearRegression()\n",
    "regressor.fit(X_train, y_train)"
   ]
  },
  {
   "cell_type": "markdown",
   "id": "147e78f1",
   "metadata": {},
   "source": [
    "Perform Prediction using Linear Regression Model"
   ]
  },
  {
   "cell_type": "code",
   "execution_count": null,
   "id": "325ca0c7",
   "metadata": {},
   "outputs": [],
   "source": [
    "y_prediction = regressor.predict(X_test)\n",
    "y_prediction[:10]"
   ]
  },
  {
   "cell_type": "code",
   "execution_count": null,
   "id": "c7700c43",
   "metadata": {},
   "outputs": [],
   "source": [
    "print(y_test[:10])"
   ]
  },
  {
   "cell_type": "code",
   "execution_count": null,
   "id": "c2424211",
   "metadata": {},
   "outputs": [],
   "source": [
    "y_test.shape"
   ]
  },
  {
   "cell_type": "markdown",
   "id": "06267c06",
   "metadata": {},
   "source": [
    "What is the mean of the expected target value in test set ?"
   ]
  },
  {
   "cell_type": "code",
   "execution_count": null,
   "id": "4a4b79ad",
   "metadata": {},
   "outputs": [],
   "source": [
    "prediction =pd.DataFrame(y_prediction[:10])\n",
    "print(prediction)"
   ]
  },
  {
   "cell_type": "code",
   "execution_count": null,
   "id": "cd306ab1",
   "metadata": {},
   "outputs": [],
   "source": [
    "y_test.describe()"
   ]
  },
  {
   "cell_type": "markdown",
   "id": "6e307c35",
   "metadata": {},
   "source": [
    "\n",
    "Evaluate Linear Regression Accuracy using Root Mean Square Error"
   ]
  },
  {
   "cell_type": "code",
   "execution_count": null,
   "id": "e5cdbb2b",
   "metadata": {},
   "outputs": [],
   "source": [
    "RMSE = sqrt(mean_squared_error(y_true = y_test, y_pred = y_prediction))\n",
    "print(RMSE)"
   ]
  },
  {
   "cell_type": "markdown",
   "id": "b6b37b34",
   "metadata": {},
   "source": [
    "\n",
    "(2) Decision Tree Regressor: Fit a new regression model to the training set"
   ]
  },
  {
   "cell_type": "code",
   "execution_count": null,
   "id": "d21d50c4",
   "metadata": {},
   "outputs": [],
   "source": [
    "regressor = DecisionTreeRegressor(max_depth=10)\n",
    "regressor.fit(X_train, y_train)"
   ]
  },
  {
   "cell_type": "markdown",
   "id": "772b4bfe",
   "metadata": {},
   "source": [
    "\n",
    "Perform Prediction using Decision Tree Regressor"
   ]
  },
  {
   "cell_type": "code",
   "execution_count": null,
   "id": "286deb7d",
   "metadata": {},
   "outputs": [],
   "source": [
    "y_prediction = regressor.predict(X_test)\n",
    "y_prediction"
   ]
  },
  {
   "cell_type": "code",
   "execution_count": null,
   "id": "9d5cf5eb",
   "metadata": {},
   "outputs": [],
   "source": [
    "y_test.describe()"
   ]
  },
  {
   "cell_type": "markdown",
   "id": "6fbd8f36",
   "metadata": {},
   "source": [
    "Evaluate Decision Tree Regression Accuracy using Root Mean Square Error"
   ]
  },
  {
   "cell_type": "code",
   "execution_count": null,
   "id": "54223d8c",
   "metadata": {},
   "outputs": [],
   "source": [
    "RMSE = sqrt(mean_squared_error(y_true = y_test, y_pred = y_prediction))\n",
    "print(RMSE)"
   ]
  },
  {
   "cell_type": "markdown",
   "id": "2d1af631",
   "metadata": {},
   "source": [
    "We have reduced the RMSE, but I still think it's a bit too high. "
   ]
  },
  {
   "cell_type": "code",
   "execution_count": null,
   "id": "a922e228",
   "metadata": {},
   "outputs": [],
   "source": []
  }
 ],
 "metadata": {
  "language_info": {
   "codemirror_mode": {
    "name": "ipython"
   },
   "file_extension": ".py",
   "mimetype": "text/x-python",
   "name": "python",
   "nbconvert_exporter": "python"
  }
 },
 "nbformat": 4,
 "nbformat_minor": 5
}
